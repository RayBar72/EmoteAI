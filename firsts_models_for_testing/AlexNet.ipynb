{
  "cells": [
    {
      "cell_type": "markdown",
      "metadata": {
        "id": "pM9zQU0mJPko"
      },
      "source": [
        "# Based on Krizhevsky et al, 2012\n",
        "\n",
        "- Incorpores preproceses and augmentation layers\n",
        "- Changes Output layer"
      ]
    },
    {
      "cell_type": "code",
      "source": [
        "from google.colab import drive\n",
        "drive.mount('/content/drive')"
      ],
      "metadata": {
        "colab": {
          "base_uri": "https://localhost:8080/"
        },
        "id": "kcN73b7RJWX-",
        "outputId": "6c2de74e-dd2c-4f41-fb77-aa3392e539a7"
      },
      "execution_count": null,
      "outputs": [
        {
          "output_type": "stream",
          "name": "stdout",
          "text": [
            "Mounted at /content/drive\n"
          ]
        }
      ]
    },
    {
      "cell_type": "markdown",
      "metadata": {
        "id": "r-K1qm7qD71W"
      },
      "source": [
        "# Entorno de Ejecución\n",
        "\n",
        "\n",
        "---\n",
        "\n"
      ]
    },
    {
      "cell_type": "code",
      "execution_count": null,
      "metadata": {
        "colab": {
          "base_uri": "https://localhost:8080/"
        },
        "id": "ignAdCnzECt_",
        "outputId": "45411acf-5cc7-49db-c9ea-998dc0b1dd0c"
      },
      "outputs": [
        {
          "output_type": "stream",
          "name": "stdout",
          "text": [
            "Tue Aug 29 16:37:28 2023       \n",
            "+-----------------------------------------------------------------------------+\n",
            "| NVIDIA-SMI 525.105.17   Driver Version: 525.105.17   CUDA Version: 12.0     |\n",
            "|-------------------------------+----------------------+----------------------+\n",
            "| GPU  Name        Persistence-M| Bus-Id        Disp.A | Volatile Uncorr. ECC |\n",
            "| Fan  Temp  Perf  Pwr:Usage/Cap|         Memory-Usage | GPU-Util  Compute M. |\n",
            "|                               |                      |               MIG M. |\n",
            "|===============================+======================+======================|\n",
            "|   0  NVIDIA A100-SXM...  Off  | 00000000:00:04.0 Off |                    0 |\n",
            "| N/A   32C    P0    46W / 400W |      0MiB / 40960MiB |      0%      Default |\n",
            "|                               |                      |             Disabled |\n",
            "+-------------------------------+----------------------+----------------------+\n",
            "                                                                               \n",
            "+-----------------------------------------------------------------------------+\n",
            "| Processes:                                                                  |\n",
            "|  GPU   GI   CI        PID   Type   Process name                  GPU Memory |\n",
            "|        ID   ID                                                   Usage      |\n",
            "|=============================================================================|\n",
            "|  No running processes found                                                 |\n",
            "+-----------------------------------------------------------------------------+\n"
          ]
        }
      ],
      "source": [
        "gpu_info = !nvidia-smi\n",
        "gpu_info = '\\n'.join(gpu_info)\n",
        "if gpu_info.find('failed') >= 0:\n",
        "  print('Not connected to a GPU')\n",
        "else:\n",
        "  print(gpu_info)"
      ]
    },
    {
      "cell_type": "code",
      "execution_count": null,
      "metadata": {
        "colab": {
          "base_uri": "https://localhost:8080/"
        },
        "id": "IX7e0ELIEJwM",
        "outputId": "f2e721d6-2da4-4430-d7c6-6f2f4c4032da"
      },
      "outputs": [
        {
          "output_type": "stream",
          "name": "stdout",
          "text": [
            "Your runtime has 89.6 gigabytes of available RAM\n",
            "\n",
            "You are using a high-RAM runtime!\n"
          ]
        }
      ],
      "source": [
        "from psutil import virtual_memory\n",
        "ram_gb = virtual_memory().total / 1e9\n",
        "print('Your runtime has {:.1f} gigabytes of available RAM\\n'.format(ram_gb))\n",
        "\n",
        "if ram_gb < 20:\n",
        "  print('Not using a high-RAM runtime')\n",
        "else:\n",
        "  print('You are using a high-RAM runtime!')"
      ]
    },
    {
      "cell_type": "code",
      "execution_count": null,
      "metadata": {
        "id": "6zgbp5EzMeGo"
      },
      "outputs": [],
      "source": [
        "import numpy as np\n",
        "import os\n",
        "# import pandas as pd\n",
        "import matplotlib.pyplot as plt\n",
        "import tensorflow.keras as K\n",
        "import tensorflow as tf\n",
        "from keras.models import Sequential\n",
        "from keras.layers import Conv2D, MaxPooling2D, Flatten, Dense, Dropout\n",
        "from keras.optimizers import Adam\n"
      ]
    },
    {
      "cell_type": "markdown",
      "metadata": {
        "id": "he4ly_t07DOd"
      },
      "source": [
        "# Creating dataset and model"
      ]
    },
    {
      "cell_type": "code",
      "execution_count": null,
      "metadata": {
        "colab": {
          "base_uri": "https://localhost:8080/"
        },
        "id": "OGLGEIK47kGc",
        "outputId": "1b0dc3a8-41ff-47d7-f428-937643a88553"
      },
      "outputs": [
        {
          "output_type": "stream",
          "name": "stdout",
          "text": [
            "Found 28729 files belonging to 7 classes.\n",
            "Found 7208 files belonging to 7 classes.\n"
          ]
        }
      ],
      "source": [
        "img_train = '/content/drive/MyDrive/Colab Notebooks/ProyFinal/Achive/train'\n",
        "\n",
        "\n",
        "traindataset = K.utils.image_dataset_from_directory(img_train,\n",
        "                                                    label_mode='categorical',\n",
        "#                                                     color_mode='grayscale',\n",
        "                                                    batch_size=32,\n",
        "                                                    image_size=(48,48),\n",
        "                                                    seed=7,\n",
        "                                                    )\n",
        "\n",
        "img_test = '/content/drive/MyDrive/Colab Notebooks/ProyFinal/Achive/test'\n",
        "\n",
        "testdataset = K.utils.image_dataset_from_directory(img_test,\n",
        "                                                    label_mode='categorical',\n",
        "#                                                     color_mode='grayscale',\n",
        "                                                    batch_size=32,\n",
        "                                                    image_size=(48,48),\n",
        "                                                    seed=7,\n",
        "                                                    )\n"
      ]
    },
    {
      "cell_type": "code",
      "execution_count": null,
      "metadata": {
        "id": "Xc9He9PZ_aFm",
        "colab": {
          "base_uri": "https://localhost:8080/"
        },
        "outputId": "1e486b42-1bc0-4b49-8eb1-4e60f7c1b56f"
      },
      "outputs": [
        {
          "output_type": "stream",
          "name": "stdout",
          "text": [
            "Model: \"sequential\"\n",
            "_________________________________________________________________\n",
            " Layer (type)                Output Shape              Param #   \n",
            "=================================================================\n",
            " resizing (Resizing)         (None, 227, 227, 3)       0         \n",
            "                                                                 \n",
            " rescaling (Rescaling)       (None, 227, 227, 3)       0         \n",
            "                                                                 \n",
            " random_flip (RandomFlip)    (None, 227, 227, 3)       0         \n",
            "                                                                 \n",
            " random_contrast (RandomCont  (None, 227, 227, 3)      0         \n",
            " rast)                                                           \n",
            "                                                                 \n",
            " random_rotation (RandomRota  (None, 227, 227, 3)      0         \n",
            " tion)                                                           \n",
            "                                                                 \n",
            " conv2d (Conv2D)             (None, 55, 55, 96)        34944     \n",
            "                                                                 \n",
            " max_pooling2d (MaxPooling2D  (None, 27, 27, 96)       0         \n",
            " )                                                               \n",
            "                                                                 \n",
            " conv2d_1 (Conv2D)           (None, 27, 27, 256)       614656    \n",
            "                                                                 \n",
            " max_pooling2d_1 (MaxPooling  (None, 13, 13, 256)      0         \n",
            " 2D)                                                             \n",
            "                                                                 \n",
            " conv2d_2 (Conv2D)           (None, 13, 13, 384)       885120    \n",
            "                                                                 \n",
            " conv2d_3 (Conv2D)           (None, 13, 13, 384)       1327488   \n",
            "                                                                 \n",
            " conv2d_4 (Conv2D)           (None, 13, 13, 256)       884992    \n",
            "                                                                 \n",
            " flatten (Flatten)           (None, 43264)             0         \n",
            "                                                                 \n",
            " dense (Dense)               (None, 4096)              177213440 \n",
            "                                                                 \n",
            " dropout (Dropout)           (None, 4096)              0         \n",
            "                                                                 \n",
            " dense_1 (Dense)             (None, 4096)              16781312  \n",
            "                                                                 \n",
            " dropout_1 (Dropout)         (None, 4096)              0         \n",
            "                                                                 \n",
            " dense_2 (Dense)             (None, 7)                 28679     \n",
            "                                                                 \n",
            "=================================================================\n",
            "Total params: 197,770,631\n",
            "Trainable params: 197,770,631\n",
            "Non-trainable params: 0\n",
            "_________________________________________________________________\n"
          ]
        }
      ],
      "source": [
        "model_path = '/content/drive/MyDrive/Colab Notebooks/ProyFinal/Achive/AlexNet.h5'\n",
        "\n",
        "model = Sequential()\n",
        "\n",
        "model.add(K.layers.experimental.preprocessing.Resizing(227, 227, input_shape=(48, 48, 3)))\n",
        "model.add(K.layers.experimental.preprocessing.Rescaling(1./255))\n",
        "model.add(K.layers.experimental.preprocessing.RandomFlip('horizontal', 0))\n",
        "model.add(K.layers.experimental.preprocessing.RandomContrast([0.9, 1.1], 1))\n",
        "model.add(K.layers.experimental.preprocessing.RandomRotation((-0.2, 0.3), seed=2))\n",
        "\n",
        "model.add(Conv2D(96, (11, 11), strides=4, activation='relu'))\n",
        "model.add(MaxPooling2D(pool_size=(3, 3), strides=2))\n",
        "\n",
        "model.add(Conv2D(256, (5, 5), padding='same', activation='relu'))\n",
        "model.add(MaxPooling2D(pool_size=(3, 3), strides=2))\n",
        "\n",
        "model.add(Conv2D(384, (3, 3), padding='same', activation='relu'))\n",
        "model.add(Conv2D(384, (3, 3), padding='same', activation='relu'))\n",
        "model.add(Conv2D(256, (3, 3), padding='same', activation='relu'))\n",
        "\n",
        "model.add(Flatten())\n",
        "\n",
        "model.add(Dense(4096, activation='relu', kernel_initializer='he_normal'))\n",
        "model.add(Dropout(0.5))\n",
        "model.add(Dense(4096, activation='relu', kernel_initializer='he_normal'))\n",
        "model.add(Dropout(0.5))\n",
        "\n",
        "model.add(Dense(7, activation='softmax', kernel_initializer='he_normal'))\n",
        "\n",
        "\n",
        "model.compile(optimizer=Adam(learning_rate=0.0001),\n",
        "              loss='categorical_crossentropy',\n",
        "              metrics=['accuracy'])\n",
        "\n",
        "model.summary()"
      ]
    },
    {
      "cell_type": "code",
      "execution_count": null,
      "metadata": {
        "colab": {
          "base_uri": "https://localhost:8080/"
        },
        "id": "CY5icagRQlWo",
        "outputId": "c0a572d6-680f-4a35-ee7e-15cb8cc5b289",
        "scrolled": false
      },
      "outputs": [
        {
          "output_type": "stream",
          "name": "stdout",
          "text": [
            "Epoch 1/100\n",
            "898/898 [==============================] - 23s 26ms/step - loss: 1.0937 - accuracy: 0.5871 - val_loss: 1.1036 - val_accuracy: 0.5791 - lr: 1.4957e-05\n",
            "Epoch 2/100\n",
            "898/898 [==============================] - 24s 27ms/step - loss: 1.0874 - accuracy: 0.5880 - val_loss: 1.0953 - val_accuracy: 0.5862 - lr: 1.3534e-05\n",
            "Epoch 3/100\n",
            "898/898 [==============================] - 18s 19ms/step - loss: 1.0743 - accuracy: 0.5947 - val_loss: 1.0983 - val_accuracy: 0.5839 - lr: 1.2246e-05\n",
            "Epoch 4/100\n",
            "898/898 [==============================] - 17s 19ms/step - loss: 1.0649 - accuracy: 0.5985 - val_loss: 1.0955 - val_accuracy: 0.5902 - lr: 1.1080e-05\n",
            "Epoch 5/100\n",
            "898/898 [==============================] - 23s 25ms/step - loss: 1.0575 - accuracy: 0.6035 - val_loss: 1.0851 - val_accuracy: 0.5895 - lr: 1.0026e-05\n",
            "Epoch 6/100\n",
            "898/898 [==============================] - 17s 19ms/step - loss: 1.0523 - accuracy: 0.6030 - val_loss: 1.0871 - val_accuracy: 0.5896 - lr: 9.0718e-06\n",
            "Epoch 7/100\n",
            "898/898 [==============================] - 23s 26ms/step - loss: 1.0461 - accuracy: 0.6066 - val_loss: 1.0833 - val_accuracy: 0.5902 - lr: 8.2085e-06\n",
            "Epoch 8/100\n",
            "898/898 [==============================] - 23s 26ms/step - loss: 1.0374 - accuracy: 0.6103 - val_loss: 1.0792 - val_accuracy: 0.5936 - lr: 7.4273e-06\n",
            "Epoch 9/100\n",
            "898/898 [==============================] - 23s 25ms/step - loss: 1.0353 - accuracy: 0.6086 - val_loss: 1.0779 - val_accuracy: 0.5956 - lr: 6.7205e-06\n",
            "Epoch 10/100\n",
            "898/898 [==============================] - 23s 25ms/step - loss: 1.0255 - accuracy: 0.6160 - val_loss: 1.0756 - val_accuracy: 0.5977 - lr: 6.0810e-06\n",
            "Epoch 11/100\n",
            "898/898 [==============================] - 17s 19ms/step - loss: 1.0245 - accuracy: 0.6142 - val_loss: 1.0768 - val_accuracy: 0.5978 - lr: 5.5023e-06\n",
            "Epoch 12/100\n",
            "898/898 [==============================] - 23s 26ms/step - loss: 1.0212 - accuracy: 0.6193 - val_loss: 1.0728 - val_accuracy: 0.5973 - lr: 4.9787e-06\n",
            "Epoch 13/100\n",
            "898/898 [==============================] - 23s 25ms/step - loss: 1.0140 - accuracy: 0.6223 - val_loss: 1.0711 - val_accuracy: 0.5992 - lr: 4.5049e-06\n",
            "Epoch 14/100\n",
            "898/898 [==============================] - 24s 26ms/step - loss: 1.0091 - accuracy: 0.6207 - val_loss: 1.0699 - val_accuracy: 0.5996 - lr: 4.0762e-06\n",
            "Epoch 15/100\n",
            "898/898 [==============================] - 23s 26ms/step - loss: 1.0017 - accuracy: 0.6253 - val_loss: 1.0679 - val_accuracy: 0.5975 - lr: 3.6883e-06\n",
            "Epoch 16/100\n",
            "898/898 [==============================] - 23s 25ms/step - loss: 1.0040 - accuracy: 0.6247 - val_loss: 1.0662 - val_accuracy: 0.5993 - lr: 3.3373e-06\n",
            "Epoch 17/100\n",
            "898/898 [==============================] - 17s 19ms/step - loss: 1.0006 - accuracy: 0.6239 - val_loss: 1.0680 - val_accuracy: 0.6013 - lr: 3.0197e-06\n",
            "Epoch 18/100\n",
            "898/898 [==============================] - 25s 27ms/step - loss: 0.9979 - accuracy: 0.6268 - val_loss: 1.0652 - val_accuracy: 0.5981 - lr: 2.7324e-06\n",
            "Epoch 19/100\n",
            "898/898 [==============================] - 17s 19ms/step - loss: 0.9966 - accuracy: 0.6263 - val_loss: 1.0664 - val_accuracy: 0.6004 - lr: 2.4723e-06\n",
            "Epoch 20/100\n",
            "898/898 [==============================] - 17s 19ms/step - loss: 0.9941 - accuracy: 0.6287 - val_loss: 1.0655 - val_accuracy: 0.6018 - lr: 2.2371e-06\n",
            "Epoch 21/100\n",
            "898/898 [==============================] - 23s 25ms/step - loss: 0.9910 - accuracy: 0.6283 - val_loss: 1.0635 - val_accuracy: 0.6020 - lr: 2.0242e-06\n",
            "Epoch 22/100\n",
            "898/898 [==============================] - 23s 25ms/step - loss: 0.9920 - accuracy: 0.6298 - val_loss: 1.0625 - val_accuracy: 0.6032 - lr: 1.8316e-06\n",
            "Epoch 23/100\n",
            "898/898 [==============================] - 23s 26ms/step - loss: 0.9943 - accuracy: 0.6294 - val_loss: 1.0623 - val_accuracy: 0.6002 - lr: 1.6573e-06\n",
            "Epoch 24/100\n",
            "898/898 [==============================] - 23s 25ms/step - loss: 0.9910 - accuracy: 0.6296 - val_loss: 1.0608 - val_accuracy: 0.6034 - lr: 1.4996e-06\n",
            "Epoch 25/100\n",
            "898/898 [==============================] - 23s 26ms/step - loss: 0.9860 - accuracy: 0.6325 - val_loss: 1.0605 - val_accuracy: 0.6027 - lr: 1.3569e-06\n",
            "Epoch 26/100\n",
            "898/898 [==============================] - 23s 25ms/step - loss: 0.9776 - accuracy: 0.6329 - val_loss: 1.0600 - val_accuracy: 0.6052 - lr: 1.2277e-06\n",
            "Epoch 27/100\n",
            "898/898 [==============================] - 23s 26ms/step - loss: 0.9878 - accuracy: 0.6289 - val_loss: 1.0597 - val_accuracy: 0.6039 - lr: 1.1109e-06\n",
            "Epoch 28/100\n",
            "898/898 [==============================] - 23s 25ms/step - loss: 0.9875 - accuracy: 0.6288 - val_loss: 1.0593 - val_accuracy: 0.6057 - lr: 1.0052e-06\n",
            "Epoch 29/100\n",
            "898/898 [==============================] - 17s 19ms/step - loss: 0.9826 - accuracy: 0.6314 - val_loss: 1.0596 - val_accuracy: 0.6035 - lr: 9.0953e-07\n",
            "Epoch 30/100\n",
            "898/898 [==============================] - 24s 27ms/step - loss: 0.9813 - accuracy: 0.6316 - val_loss: 1.0586 - val_accuracy: 0.6047 - lr: 8.2297e-07\n",
            "Epoch 31/100\n",
            "898/898 [==============================] - 25s 27ms/step - loss: 0.9801 - accuracy: 0.6318 - val_loss: 1.0583 - val_accuracy: 0.6035 - lr: 7.4466e-07\n",
            "Epoch 32/100\n",
            "898/898 [==============================] - 18s 19ms/step - loss: 0.9792 - accuracy: 0.6342 - val_loss: 1.0585 - val_accuracy: 0.6054 - lr: 6.7379e-07\n",
            "Epoch 33/100\n",
            "898/898 [==============================] - 24s 26ms/step - loss: 0.9778 - accuracy: 0.6339 - val_loss: 1.0575 - val_accuracy: 0.6034 - lr: 6.0967e-07\n",
            "Epoch 34/100\n",
            "898/898 [==============================] - 24s 27ms/step - loss: 0.9839 - accuracy: 0.6317 - val_loss: 1.0572 - val_accuracy: 0.6042 - lr: 5.5165e-07\n",
            "Epoch 35/100\n",
            "898/898 [==============================] - 17s 19ms/step - loss: 0.9790 - accuracy: 0.6358 - val_loss: 1.0579 - val_accuracy: 0.6042 - lr: 4.9916e-07\n",
            "Epoch 36/100\n",
            "898/898 [==============================] - 17s 19ms/step - loss: 0.9792 - accuracy: 0.6369 - val_loss: 1.0573 - val_accuracy: 0.6042 - lr: 4.5166e-07\n",
            "Epoch 37/100\n",
            "898/898 [==============================] - 17s 19ms/step - loss: 0.9780 - accuracy: 0.6346 - val_loss: 1.0576 - val_accuracy: 0.6029 - lr: 4.0868e-07\n",
            "Epoch 38/100\n",
            "898/898 [==============================] - 17s 19ms/step - loss: 0.9759 - accuracy: 0.6348 - val_loss: 1.0575 - val_accuracy: 0.6027 - lr: 3.6979e-07\n",
            "Epoch 39/100\n",
            "898/898 [==============================] - 17s 19ms/step - loss: 0.9716 - accuracy: 0.6379 - val_loss: 1.0575 - val_accuracy: 0.6046 - lr: 3.3460e-07\n",
            "Epoch 40/100\n",
            "898/898 [==============================] - 28s 30ms/step - loss: 0.9763 - accuracy: 0.6328 - val_loss: 1.0570 - val_accuracy: 0.6031 - lr: 3.0275e-07\n",
            "Epoch 41/100\n",
            "898/898 [==============================] - 23s 26ms/step - loss: 0.9757 - accuracy: 0.6341 - val_loss: 1.0567 - val_accuracy: 0.6043 - lr: 2.7394e-07\n",
            "Epoch 42/100\n",
            "898/898 [==============================] - 23s 25ms/step - loss: 0.9771 - accuracy: 0.6337 - val_loss: 1.0567 - val_accuracy: 0.6038 - lr: 2.4787e-07\n",
            "Epoch 43/100\n",
            "898/898 [==============================] - 23s 26ms/step - loss: 0.9741 - accuracy: 0.6344 - val_loss: 1.0565 - val_accuracy: 0.6042 - lr: 2.2429e-07\n",
            "Epoch 44/100\n",
            "898/898 [==============================] - 27s 30ms/step - loss: 0.9785 - accuracy: 0.6317 - val_loss: 1.0565 - val_accuracy: 0.6042 - lr: 2.0294e-07\n",
            "Epoch 45/100\n",
            "898/898 [==============================] - 17s 19ms/step - loss: 0.9732 - accuracy: 0.6365 - val_loss: 1.0565 - val_accuracy: 0.6041 - lr: 1.8363e-07\n",
            "Epoch 46/100\n",
            "898/898 [==============================] - 23s 26ms/step - loss: 0.9756 - accuracy: 0.6374 - val_loss: 1.0564 - val_accuracy: 0.6032 - lr: 1.6616e-07\n",
            "Epoch 47/100\n",
            "898/898 [==============================] - 17s 19ms/step - loss: 0.9725 - accuracy: 0.6356 - val_loss: 1.0568 - val_accuracy: 0.6032 - lr: 1.5034e-07\n",
            "Epoch 48/100\n",
            "898/898 [==============================] - 17s 19ms/step - loss: 0.9830 - accuracy: 0.6319 - val_loss: 1.0565 - val_accuracy: 0.6038 - lr: 1.3604e-07\n",
            "Epoch 49/100\n",
            "898/898 [==============================] - 17s 19ms/step - loss: 0.9743 - accuracy: 0.6346 - val_loss: 1.0568 - val_accuracy: 0.6036 - lr: 1.2309e-07\n",
            "Epoch 50/100\n",
            "898/898 [==============================] - 17s 19ms/step - loss: 0.9743 - accuracy: 0.6339 - val_loss: 1.0566 - val_accuracy: 0.6034 - lr: 1.1138e-07\n",
            "Epoch 51/100\n",
            "898/898 [==============================] - 17s 19ms/step - loss: 0.9766 - accuracy: 0.6333 - val_loss: 1.0565 - val_accuracy: 0.6035 - lr: 1.0078e-07\n",
            "Epoch 52/100\n",
            "898/898 [==============================] - 17s 19ms/step - loss: 0.9698 - accuracy: 0.6362 - val_loss: 1.0567 - val_accuracy: 0.6031 - lr: 9.1188e-08\n",
            "Epoch 53/100\n",
            "898/898 [==============================] - 17s 19ms/step - loss: 0.9750 - accuracy: 0.6344 - val_loss: 1.0567 - val_accuracy: 0.6034 - lr: 8.2510e-08\n",
            "Epoch 54/100\n",
            "898/898 [==============================] - 28s 31ms/step - loss: 0.9810 - accuracy: 0.6328 - val_loss: 1.0564 - val_accuracy: 0.6038 - lr: 7.4658e-08\n",
            "Epoch 55/100\n",
            "898/898 [==============================] - 17s 19ms/step - loss: 0.9755 - accuracy: 0.6376 - val_loss: 1.0565 - val_accuracy: 0.6045 - lr: 6.7554e-08\n",
            "Epoch 56/100\n",
            "898/898 [==============================] - 17s 19ms/step - loss: 0.9714 - accuracy: 0.6354 - val_loss: 1.0566 - val_accuracy: 0.6043 - lr: 6.1125e-08\n",
            "Epoch 57/100\n",
            "898/898 [==============================] - 17s 19ms/step - loss: 0.9728 - accuracy: 0.6394 - val_loss: 1.0566 - val_accuracy: 0.6035 - lr: 5.5308e-08\n",
            "Epoch 58/100\n",
            "898/898 [==============================] - 17s 19ms/step - loss: 0.9738 - accuracy: 0.6381 - val_loss: 1.0567 - val_accuracy: 0.6036 - lr: 5.0045e-08\n",
            "Epoch 59/100\n",
            "898/898 [==============================] - 17s 19ms/step - loss: 0.9740 - accuracy: 0.6358 - val_loss: 1.0567 - val_accuracy: 0.6036 - lr: 4.5283e-08\n",
            "Epoch 60/100\n",
            "898/898 [==============================] - 17s 19ms/step - loss: 0.9723 - accuracy: 0.6370 - val_loss: 1.0567 - val_accuracy: 0.6039 - lr: 4.0973e-08\n",
            "Epoch 61/100\n",
            "898/898 [==============================] - 17s 19ms/step - loss: 0.9759 - accuracy: 0.6356 - val_loss: 1.0566 - val_accuracy: 0.6038 - lr: 3.7074e-08\n",
            "Epoch 62/100\n",
            "898/898 [==============================] - 17s 19ms/step - loss: 0.9754 - accuracy: 0.6350 - val_loss: 1.0567 - val_accuracy: 0.6031 - lr: 3.3546e-08\n",
            "Epoch 63/100\n",
            "898/898 [==============================] - 17s 19ms/step - loss: 0.9733 - accuracy: 0.6358 - val_loss: 1.0567 - val_accuracy: 0.6034 - lr: 3.0354e-08\n",
            "Epoch 64/100\n",
            "898/898 [==============================] - 17s 19ms/step - loss: 0.9761 - accuracy: 0.6326 - val_loss: 1.0567 - val_accuracy: 0.6028 - lr: 2.7465e-08\n",
            "Epoch 65/100\n",
            "898/898 [==============================] - 17s 19ms/step - loss: 0.9744 - accuracy: 0.6358 - val_loss: 1.0567 - val_accuracy: 0.6031 - lr: 2.4852e-08\n",
            "Epoch 66/100\n",
            "898/898 [==============================] - 17s 19ms/step - loss: 0.9744 - accuracy: 0.6391 - val_loss: 1.0567 - val_accuracy: 0.6029 - lr: 2.2487e-08\n",
            "Epoch 67/100\n",
            "898/898 [==============================] - 17s 19ms/step - loss: 0.9723 - accuracy: 0.6394 - val_loss: 1.0567 - val_accuracy: 0.6025 - lr: 2.0347e-08\n",
            "Epoch 68/100\n",
            "898/898 [==============================] - 17s 19ms/step - loss: 0.9706 - accuracy: 0.6369 - val_loss: 1.0566 - val_accuracy: 0.6028 - lr: 1.8410e-08\n",
            "Epoch 69/100\n",
            "898/898 [==============================] - 17s 19ms/step - loss: 0.9699 - accuracy: 0.6389 - val_loss: 1.0567 - val_accuracy: 0.6034 - lr: 1.6659e-08\n",
            "Epoch 70/100\n",
            "898/898 [==============================] - 17s 19ms/step - loss: 0.9749 - accuracy: 0.6366 - val_loss: 1.0566 - val_accuracy: 0.6039 - lr: 1.5073e-08\n",
            "Epoch 71/100\n",
            "898/898 [==============================] - 17s 19ms/step - loss: 0.9730 - accuracy: 0.6355 - val_loss: 1.0566 - val_accuracy: 0.6035 - lr: 1.3639e-08\n",
            "Epoch 72/100\n",
            "898/898 [==============================] - 17s 19ms/step - loss: 0.9695 - accuracy: 0.6361 - val_loss: 1.0567 - val_accuracy: 0.6035 - lr: 1.2341e-08\n",
            "Epoch 73/100\n",
            "898/898 [==============================] - 17s 19ms/step - loss: 0.9752 - accuracy: 0.6335 - val_loss: 1.0567 - val_accuracy: 0.6036 - lr: 1.1167e-08\n",
            "Epoch 74/100\n",
            "898/898 [==============================] - 17s 19ms/step - loss: 0.9738 - accuracy: 0.6383 - val_loss: 1.0566 - val_accuracy: 0.6035 - lr: 1.0104e-08\n",
            "Epoch 75/100\n",
            "898/898 [==============================] - 17s 19ms/step - loss: 0.9731 - accuracy: 0.6348 - val_loss: 1.0566 - val_accuracy: 0.6036 - lr: 9.1424e-09\n",
            "Epoch 76/100\n",
            "898/898 [==============================] - 17s 19ms/step - loss: 0.9728 - accuracy: 0.6368 - val_loss: 1.0566 - val_accuracy: 0.6039 - lr: 8.2724e-09\n",
            "Epoch 77/100\n",
            "898/898 [==============================] - 17s 19ms/step - loss: 0.9747 - accuracy: 0.6374 - val_loss: 1.0566 - val_accuracy: 0.6038 - lr: 7.4851e-09\n",
            "Epoch 78/100\n",
            "898/898 [==============================] - 17s 19ms/step - loss: 0.9769 - accuracy: 0.6341 - val_loss: 1.0566 - val_accuracy: 0.6034 - lr: 6.7728e-09\n",
            "Epoch 79/100\n",
            "898/898 [==============================] - 17s 19ms/step - loss: 0.9744 - accuracy: 0.6343 - val_loss: 1.0566 - val_accuracy: 0.6034 - lr: 6.1283e-09\n",
            "Epoch 80/100\n",
            "898/898 [==============================] - 17s 19ms/step - loss: 0.9727 - accuracy: 0.6351 - val_loss: 1.0566 - val_accuracy: 0.6038 - lr: 5.5451e-09\n",
            "Epoch 81/100\n",
            "898/898 [==============================] - 17s 19ms/step - loss: 0.9761 - accuracy: 0.6366 - val_loss: 1.0566 - val_accuracy: 0.6035 - lr: 5.0174e-09\n",
            "Epoch 82/100\n",
            "898/898 [==============================] - 17s 19ms/step - loss: 0.9744 - accuracy: 0.6364 - val_loss: 1.0566 - val_accuracy: 0.6039 - lr: 4.5400e-09\n",
            "Epoch 83/100\n",
            "898/898 [==============================] - 17s 19ms/step - loss: 0.9763 - accuracy: 0.6387 - val_loss: 1.0566 - val_accuracy: 0.6035 - lr: 4.1079e-09\n",
            "Epoch 84/100\n",
            "898/898 [==============================] - 17s 19ms/step - loss: 0.9728 - accuracy: 0.6364 - val_loss: 1.0566 - val_accuracy: 0.6035 - lr: 3.7170e-09\n",
            "Epoch 85/100\n",
            "898/898 [==============================] - 17s 19ms/step - loss: 0.9717 - accuracy: 0.6367 - val_loss: 1.0566 - val_accuracy: 0.6036 - lr: 3.3633e-09\n",
            "Epoch 86/100\n",
            "898/898 [==============================] - 17s 19ms/step - loss: 0.9778 - accuracy: 0.6346 - val_loss: 1.0566 - val_accuracy: 0.6036 - lr: 3.0432e-09\n",
            "Epoch 87/100\n",
            "898/898 [==============================] - 17s 19ms/step - loss: 0.9732 - accuracy: 0.6357 - val_loss: 1.0566 - val_accuracy: 0.6036 - lr: 2.7536e-09\n",
            "Epoch 88/100\n",
            "898/898 [==============================] - 17s 19ms/step - loss: 0.9729 - accuracy: 0.6349 - val_loss: 1.0566 - val_accuracy: 0.6036 - lr: 2.4916e-09\n",
            "Epoch 89/100\n",
            "898/898 [==============================] - 17s 19ms/step - loss: 0.9758 - accuracy: 0.6343 - val_loss: 1.0566 - val_accuracy: 0.6035 - lr: 2.2545e-09\n",
            "Epoch 90/100\n",
            "898/898 [==============================] - 17s 19ms/step - loss: 0.9729 - accuracy: 0.6369 - val_loss: 1.0566 - val_accuracy: 0.6035 - lr: 2.0399e-09\n",
            "Epoch 91/100\n",
            "898/898 [==============================] - 17s 19ms/step - loss: 0.9686 - accuracy: 0.6386 - val_loss: 1.0566 - val_accuracy: 0.6035 - lr: 1.8458e-09\n",
            "Epoch 92/100\n",
            "898/898 [==============================] - 17s 19ms/step - loss: 0.9756 - accuracy: 0.6351 - val_loss: 1.0566 - val_accuracy: 0.6036 - lr: 1.6702e-09\n",
            "Epoch 93/100\n",
            "898/898 [==============================] - 17s 19ms/step - loss: 0.9713 - accuracy: 0.6374 - val_loss: 1.0566 - val_accuracy: 0.6036 - lr: 1.5112e-09\n",
            "Epoch 94/100\n",
            "898/898 [==============================] - 17s 19ms/step - loss: 0.9713 - accuracy: 0.6388 - val_loss: 1.0566 - val_accuracy: 0.6035 - lr: 1.3674e-09\n",
            "Epoch 95/100\n",
            "898/898 [==============================] - 17s 19ms/step - loss: 0.9763 - accuracy: 0.6368 - val_loss: 1.0566 - val_accuracy: 0.6035 - lr: 1.2373e-09\n",
            "Epoch 96/100\n",
            "898/898 [==============================] - 17s 19ms/step - loss: 0.9738 - accuracy: 0.6363 - val_loss: 1.0566 - val_accuracy: 0.6035 - lr: 1.1195e-09\n",
            "Epoch 97/100\n",
            "898/898 [==============================] - 17s 19ms/step - loss: 0.9730 - accuracy: 0.6367 - val_loss: 1.0566 - val_accuracy: 0.6035 - lr: 1.0130e-09\n",
            "Epoch 98/100\n",
            "898/898 [==============================] - 17s 19ms/step - loss: 0.9774 - accuracy: 0.6356 - val_loss: 1.0566 - val_accuracy: 0.6035 - lr: 9.1660e-10\n",
            "Epoch 99/100\n",
            "898/898 [==============================] - 17s 19ms/step - loss: 0.9782 - accuracy: 0.6335 - val_loss: 1.0566 - val_accuracy: 0.6036 - lr: 8.2938e-10\n",
            "Epoch 100/100\n",
            "898/898 [==============================] - 17s 19ms/step - loss: 0.9717 - accuracy: 0.6355 - val_loss: 1.0566 - val_accuracy: 0.6035 - lr: 7.5045e-10\n"
          ]
        }
      ],
      "source": [
        "def scheduler(epoch, lr):\n",
        "    if epoch < 1:\n",
        "        return lr\n",
        "    else:\n",
        "        return lr * tf.math.exp(-0.1)\n",
        "\n",
        "best = [K.callbacks.ModelCheckpoint(model_path,\n",
        "                                   save_best_only=True),\n",
        "       K.callbacks.LearningRateScheduler(scheduler)\n",
        "#        K.callbacks.EarlyStopping(monitor='val_loss',\n",
        "#                                 patience=5,\n",
        "#                                 verbose=1)\n",
        "       ]\n",
        "\n",
        "history = model.fit(traindataset,\n",
        "                    validation_data=testdataset,\n",
        "                    epochs=100,\n",
        "                    verbose=True,\n",
        "                    callbacks=best)"
      ]
    },
    {
      "cell_type": "code",
      "execution_count": null,
      "metadata": {
        "colab": {
          "base_uri": "https://localhost:8080/"
        },
        "id": "Mv6LYyKx5CtG",
        "outputId": "0a6d0477-e9a6-4b8d-ef6f-d603ea68527f"
      },
      "outputs": [
        {
          "output_type": "stream",
          "name": "stdout",
          "text": [
            "<class 'dict'>\n",
            "dict_keys(['loss', 'accuracy', 'val_loss', 'val_accuracy', 'lr'])\n"
          ]
        },
        {
          "output_type": "execute_result",
          "data": {
            "text/plain": [
              "100"
            ]
          },
          "metadata": {},
          "execution_count": 9
        }
      ],
      "source": [
        "print(type(history.history))\n",
        "print(history.history.keys())\n",
        "largo = len(history.history['accuracy'])\n",
        "largo"
      ]
    },
    {
      "cell_type": "code",
      "execution_count": null,
      "metadata": {
        "colab": {
          "base_uri": "https://localhost:8080/",
          "height": 472
        },
        "id": "KiAjZqXp56-Z",
        "outputId": "c1555da0-b322-4ea1-9e6a-4fd9eef8a5ca"
      },
      "outputs": [
        {
          "output_type": "display_data",
          "data": {
            "text/plain": [
              "<Figure size 640x480 with 1 Axes>"
            ],
            "image/png": "[encoded data removed]"
          },
          "metadata": {}
        }
      ],
      "source": [
        "# Review Accuracy\n",
        "\n",
        "plt.plot(range(1, largo + 1), history.history['accuracy'], '-b', label='Accuracy')\n",
        "plt.plot(range(1, largo + 1), history.history['val_accuracy'], '-r', label='Val_Accuracy')\n",
        "plt.title('Acuracy for The Model')\n",
        "plt.xlabel('Epochs')\n",
        "plt.ylabel('Accuracy')\n",
        "plt.legend()\n",
        "plt.show()"
      ]
    },
    {
      "cell_type": "code",
      "execution_count": null,
      "metadata": {
        "colab": {
          "base_uri": "https://localhost:8080/"
        },
        "id": "fodu-KFtJPk7",
        "outputId": "227f6d87-34de-45be-fa1e-30da07f28d49"
      },
      "outputs": [
        {
          "output_type": "stream",
          "name": "stdout",
          "text": [
            "226/226 [==============================] - 3s 13ms/step - loss: 1.0566 - accuracy: 0.6035\n"
          ]
        }
      ],
      "source": [
        "eval = model.evaluate(testdataset, verbose=True, use_multiprocessing=True, return_dict=True)"
      ]
    },
    {
      "cell_type": "code",
      "execution_count": null,
      "metadata": {
        "colab": {
          "base_uri": "https://localhost:8080/"
        },
        "id": "O8HrVnSuJPk8",
        "outputId": "b93f95c2-f4a2-4976-f762-0f2a470c090b"
      },
      "outputs": [
        {
          "output_type": "stream",
          "name": "stdout",
          "text": [
            "{'loss': 1.0565754175186157, 'accuracy': 0.6034961342811584}\n"
          ]
        }
      ],
      "source": [
        "print(eval)"
      ]
    },
    {
      "cell_type": "code",
      "execution_count": null,
      "metadata": {
        "colab": {
          "base_uri": "https://localhost:8080/"
        },
        "id": "IUsghYsaJPk9",
        "outputId": "e09b24ef-e4f0-4d89-9353-aef68869d1f8"
      },
      "outputs": [
        {
          "output_type": "stream",
          "name": "stdout",
          "text": [
            "226/226 [==============================] - 3s 13ms/step\n"
          ]
        }
      ],
      "source": [
        "prediction = model.predict(testdataset)"
      ]
    },
    {
      "cell_type": "code",
      "execution_count": null,
      "metadata": {
        "colab": {
          "base_uri": "https://localhost:8080/"
        },
        "id": "R-XjB_IDJPk9",
        "outputId": "6d0161f7-6ddb-4362-e449-934bab8d3432"
      },
      "outputs": [
        {
          "output_type": "stream",
          "name": "stdout",
          "text": [
            "[[1.18676223e-01 1.25711756e-02 1.65641189e-01 ... 1.90080926e-01\n",
            "  4.92070645e-01 1.89099312e-02]\n",
            " [7.90744945e-02 6.31150305e-02 5.91117322e-01 ... 6.18914608e-03\n",
            "  3.58669274e-02 1.20301761e-01]\n",
            " [2.38034800e-02 1.53052458e-03 9.48793963e-02 ... 5.72402999e-02\n",
            "  4.40419018e-01 2.59344495e-04]\n",
            " ...\n",
            " [1.23198718e-01 5.50998189e-03 1.08415090e-01 ... 1.08123057e-01\n",
            "  5.92364192e-01 6.09249203e-03]\n",
            " [9.34994896e-05 4.29691539e-07 8.41687713e-03 ... 3.77609467e-06\n",
            "  1.75345922e-05 9.91372347e-01]\n",
            " [5.49919251e-03 1.04161656e-04 1.72929689e-02 ... 8.91516507e-01\n",
            "  3.77792120e-02 2.65837647e-03]]\n",
            "(7208, 7)\n"
          ]
        }
      ],
      "source": [
        "print(prediction)\n",
        "print(prediction.shape)"
      ]
    },
    {
      "cell_type": "code",
      "execution_count": null,
      "metadata": {
        "colab": {
          "base_uri": "https://localhost:8080/"
        },
        "id": "mVhyOF8bJPk9",
        "outputId": "a863ff7c-b8c7-416c-82b1-3dc7b5d1fc3e"
      },
      "outputs": [
        {
          "output_type": "stream",
          "name": "stdout",
          "text": [
            "{'angry': 0, 'disgust': 1, 'fear': 2, 'happy': 3, 'neutral': 4, 'sad': 5, 'surprise': 6}\n"
          ]
        }
      ],
      "source": [
        "names = {k: v for v, k in enumerate(testdataset.class_names)}\n",
        "print(names)"
      ]
    },
    {
      "cell_type": "code",
      "execution_count": null,
      "metadata": {
        "colab": {
          "base_uri": "https://localhost:8080/"
        },
        "id": "6BxbMRanJPk-",
        "outputId": "f9f94619-b7c3-4ac3-f7dd-2c0de8597414"
      },
      "outputs": [
        {
          "output_type": "stream",
          "name": "stdout",
          "text": [
            "1/1 [==============================] - 0s 111ms/step\n",
            "1/1 [==============================] - 0s 20ms/step\n",
            "1/1 [==============================] - 0s 19ms/step\n",
            "1/1 [==============================] - 0s 19ms/step\n",
            "1/1 [==============================] - 0s 18ms/step\n",
            "1/1 [==============================] - 0s 18ms/step\n",
            "1/1 [==============================] - 0s 20ms/step\n",
            "1/1 [==============================] - 0s 19ms/step\n",
            "1/1 [==============================] - 0s 18ms/step\n",
            "1/1 [==============================] - 0s 19ms/step\n",
            "1/1 [==============================] - 0s 19ms/step\n",
            "1/1 [==============================] - 0s 20ms/step\n",
            "1/1 [==============================] - 0s 19ms/step\n",
            "1/1 [==============================] - 0s 19ms/step\n",
            "1/1 [==============================] - 0s 18ms/step\n",
            "1/1 [==============================] - 0s 20ms/step\n",
            "1/1 [==============================] - 0s 20ms/step\n",
            "1/1 [==============================] - 0s 19ms/step\n",
            "1/1 [==============================] - 0s 19ms/step\n",
            "1/1 [==============================] - 0s 19ms/step\n",
            "1/1 [==============================] - 0s 20ms/step\n",
            "1/1 [==============================] - 0s 21ms/step\n",
            "1/1 [==============================] - 0s 19ms/step\n",
            "1/1 [==============================] - 0s 18ms/step\n",
            "1/1 [==============================] - 0s 18ms/step\n",
            "1/1 [==============================] - 0s 19ms/step\n",
            "1/1 [==============================] - 0s 21ms/step\n",
            "1/1 [==============================] - 0s 19ms/step\n",
            "1/1 [==============================] - 0s 18ms/step\n",
            "1/1 [==============================] - 0s 19ms/step\n",
            "1/1 [==============================] - 0s 22ms/step\n",
            "1/1 [==============================] - 0s 20ms/step\n",
            "1/1 [==============================] - 0s 20ms/step\n",
            "1/1 [==============================] - 0s 18ms/step\n",
            "1/1 [==============================] - 0s 19ms/step\n",
            "1/1 [==============================] - 0s 19ms/step\n",
            "1/1 [==============================] - 0s 20ms/step\n",
            "1/1 [==============================] - 0s 20ms/step\n",
            "1/1 [==============================] - 0s 19ms/step\n",
            "1/1 [==============================] - 0s 20ms/step\n",
            "1/1 [==============================] - 0s 19ms/step\n",
            "1/1 [==============================] - 0s 21ms/step\n",
            "1/1 [==============================] - 0s 19ms/step\n",
            "1/1 [==============================] - 0s 18ms/step\n",
            "1/1 [==============================] - 0s 18ms/step\n",
            "1/1 [==============================] - 0s 19ms/step\n",
            "1/1 [==============================] - 0s 20ms/step\n",
            "1/1 [==============================] - 0s 19ms/step\n",
            "1/1 [==============================] - 0s 19ms/step\n",
            "1/1 [==============================] - 0s 19ms/step\n",
            "1/1 [==============================] - 0s 19ms/step\n",
            "1/1 [==============================] - 0s 20ms/step\n",
            "1/1 [==============================] - 0s 19ms/step\n",
            "1/1 [==============================] - 0s 19ms/step\n",
            "1/1 [==============================] - 0s 18ms/step\n",
            "1/1 [==============================] - 0s 19ms/step\n",
            "1/1 [==============================] - 0s 21ms/step\n",
            "1/1 [==============================] - 0s 20ms/step\n",
            "1/1 [==============================] - 0s 18ms/step\n",
            "1/1 [==============================] - 0s 18ms/step\n",
            "1/1 [==============================] - 0s 19ms/step\n",
            "1/1 [==============================] - 0s 20ms/step\n",
            "1/1 [==============================] - 0s 20ms/step\n",
            "1/1 [==============================] - 0s 20ms/step\n",
            "1/1 [==============================] - 0s 18ms/step\n",
            "1/1 [==============================] - 0s 20ms/step\n",
            "1/1 [==============================] - 0s 20ms/step\n",
            "1/1 [==============================] - 0s 19ms/step\n",
            "1/1 [==============================] - 0s 20ms/step\n",
            "1/1 [==============================] - 0s 19ms/step\n",
            "1/1 [==============================] - 0s 20ms/step\n",
            "1/1 [==============================] - 0s 19ms/step\n",
            "1/1 [==============================] - 0s 19ms/step\n",
            "1/1 [==============================] - 0s 19ms/step\n",
            "1/1 [==============================] - 0s 20ms/step\n",
            "1/1 [==============================] - 0s 21ms/step\n",
            "1/1 [==============================] - 0s 20ms/step\n",
            "1/1 [==============================] - 0s 19ms/step\n",
            "1/1 [==============================] - 0s 18ms/step\n",
            "1/1 [==============================] - 0s 19ms/step\n",
            "1/1 [==============================] - 0s 20ms/step\n",
            "1/1 [==============================] - 0s 20ms/step\n",
            "1/1 [==============================] - 0s 21ms/step\n",
            "1/1 [==============================] - 0s 26ms/step\n",
            "1/1 [==============================] - 0s 20ms/step\n",
            "1/1 [==============================] - 0s 20ms/step\n",
            "1/1 [==============================] - 0s 19ms/step\n",
            "1/1 [==============================] - 0s 19ms/step\n",
            "1/1 [==============================] - 0s 19ms/step\n",
            "1/1 [==============================] - 0s 20ms/step\n",
            "1/1 [==============================] - 0s 21ms/step\n",
            "1/1 [==============================] - 0s 19ms/step\n",
            "1/1 [==============================] - 0s 18ms/step\n",
            "1/1 [==============================] - 0s 18ms/step\n",
            "1/1 [==============================] - 0s 21ms/step\n",
            "1/1 [==============================] - 0s 29ms/step\n",
            "1/1 [==============================] - 0s 21ms/step\n",
            "1/1 [==============================] - 0s 22ms/step\n",
            "1/1 [==============================] - 0s 22ms/step\n",
            "1/1 [==============================] - 0s 20ms/step\n",
            "1/1 [==============================] - 0s 18ms/step\n",
            "1/1 [==============================] - 0s 19ms/step\n",
            "1/1 [==============================] - 0s 20ms/step\n",
            "1/1 [==============================] - 0s 21ms/step\n",
            "1/1 [==============================] - 0s 20ms/step\n",
            "1/1 [==============================] - 0s 19ms/step\n",
            "1/1 [==============================] - 0s 19ms/step\n",
            "1/1 [==============================] - 0s 19ms/step\n",
            "1/1 [==============================] - 0s 29ms/step\n",
            "1/1 [==============================] - 0s 29ms/step\n",
            "1/1 [==============================] - 0s 19ms/step\n",
            "1/1 [==============================] - 0s 18ms/step\n",
            "1/1 [==============================] - 0s 20ms/step\n",
            "1/1 [==============================] - 0s 21ms/step\n",
            "1/1 [==============================] - 0s 19ms/step\n",
            "1/1 [==============================] - 0s 19ms/step\n",
            "1/1 [==============================] - 0s 19ms/step\n",
            "1/1 [==============================] - 0s 20ms/step\n",
            "1/1 [==============================] - 0s 20ms/step\n",
            "1/1 [==============================] - 0s 19ms/step\n",
            "1/1 [==============================] - 0s 19ms/step\n",
            "1/1 [==============================] - 0s 20ms/step\n",
            "1/1 [==============================] - 0s 21ms/step\n",
            "1/1 [==============================] - 0s 23ms/step\n",
            "1/1 [==============================] - 0s 20ms/step\n",
            "1/1 [==============================] - 0s 19ms/step\n",
            "1/1 [==============================] - 0s 18ms/step\n",
            "1/1 [==============================] - 0s 21ms/step\n",
            "1/1 [==============================] - 0s 21ms/step\n",
            "1/1 [==============================] - 0s 19ms/step\n",
            "1/1 [==============================] - 0s 19ms/step\n",
            "1/1 [==============================] - 0s 20ms/step\n",
            "1/1 [==============================] - 0s 21ms/step\n",
            "1/1 [==============================] - 0s 21ms/step\n",
            "1/1 [==============================] - 0s 19ms/step\n",
            "1/1 [==============================] - 0s 19ms/step\n",
            "1/1 [==============================] - 0s 18ms/step\n",
            "1/1 [==============================] - 0s 20ms/step\n",
            "1/1 [==============================] - 0s 20ms/step\n",
            "1/1 [==============================] - 0s 18ms/step\n",
            "1/1 [==============================] - 0s 19ms/step\n",
            "1/1 [==============================] - 0s 19ms/step\n",
            "1/1 [==============================] - 0s 21ms/step\n",
            "1/1 [==============================] - 0s 21ms/step\n",
            "1/1 [==============================] - 0s 20ms/step\n",
            "1/1 [==============================] - 0s 19ms/step\n",
            "1/1 [==============================] - 0s 18ms/step\n",
            "1/1 [==============================] - 0s 21ms/step\n",
            "1/1 [==============================] - 0s 21ms/step\n",
            "1/1 [==============================] - 0s 19ms/step\n",
            "1/1 [==============================] - 0s 18ms/step\n",
            "1/1 [==============================] - 0s 19ms/step\n",
            "1/1 [==============================] - 0s 21ms/step\n",
            "1/1 [==============================] - 0s 20ms/step\n",
            "1/1 [==============================] - 0s 19ms/step\n",
            "1/1 [==============================] - 0s 18ms/step\n",
            "1/1 [==============================] - 0s 19ms/step\n",
            "1/1 [==============================] - 0s 20ms/step\n",
            "1/1 [==============================] - 0s 20ms/step\n",
            "1/1 [==============================] - 0s 19ms/step\n",
            "1/1 [==============================] - 0s 19ms/step\n",
            "1/1 [==============================] - 0s 19ms/step\n",
            "1/1 [==============================] - 0s 21ms/step\n",
            "1/1 [==============================] - 0s 20ms/step\n",
            "1/1 [==============================] - 0s 19ms/step\n",
            "1/1 [==============================] - 0s 19ms/step\n",
            "1/1 [==============================] - 0s 19ms/step\n",
            "1/1 [==============================] - 0s 20ms/step\n",
            "1/1 [==============================] - 0s 21ms/step\n",
            "1/1 [==============================] - 0s 19ms/step\n",
            "1/1 [==============================] - 0s 20ms/step\n",
            "1/1 [==============================] - 0s 19ms/step\n",
            "1/1 [==============================] - 0s 21ms/step\n",
            "1/1 [==============================] - 0s 21ms/step\n",
            "1/1 [==============================] - 0s 18ms/step\n",
            "1/1 [==============================] - 0s 18ms/step\n",
            "1/1 [==============================] - 0s 19ms/step\n",
            "1/1 [==============================] - 0s 20ms/step\n",
            "1/1 [==============================] - 0s 19ms/step\n",
            "1/1 [==============================] - 0s 19ms/step\n",
            "1/1 [==============================] - 0s 19ms/step\n",
            "1/1 [==============================] - 0s 19ms/step\n",
            "1/1 [==============================] - 0s 20ms/step\n",
            "1/1 [==============================] - 0s 20ms/step\n",
            "1/1 [==============================] - 0s 19ms/step\n",
            "1/1 [==============================] - 0s 19ms/step\n",
            "1/1 [==============================] - 0s 19ms/step\n",
            "1/1 [==============================] - 0s 20ms/step\n",
            "1/1 [==============================] - 0s 20ms/step\n",
            "1/1 [==============================] - 0s 20ms/step\n",
            "1/1 [==============================] - 0s 20ms/step\n",
            "1/1 [==============================] - 0s 21ms/step\n",
            "1/1 [==============================] - 0s 20ms/step\n",
            "1/1 [==============================] - 0s 19ms/step\n",
            "1/1 [==============================] - 0s 18ms/step\n",
            "1/1 [==============================] - 0s 19ms/step\n",
            "1/1 [==============================] - 0s 18ms/step\n",
            "1/1 [==============================] - 0s 19ms/step\n",
            "1/1 [==============================] - 0s 20ms/step\n",
            "1/1 [==============================] - 0s 19ms/step\n",
            "1/1 [==============================] - 0s 19ms/step\n",
            "1/1 [==============================] - 0s 19ms/step\n",
            "1/1 [==============================] - 0s 20ms/step\n",
            "1/1 [==============================] - 0s 20ms/step\n",
            "1/1 [==============================] - 0s 18ms/step\n",
            "1/1 [==============================] - 0s 19ms/step\n",
            "1/1 [==============================] - 0s 19ms/step\n",
            "1/1 [==============================] - 0s 21ms/step\n",
            "1/1 [==============================] - 0s 20ms/step\n",
            "1/1 [==============================] - 0s 20ms/step\n",
            "1/1 [==============================] - 0s 19ms/step\n",
            "1/1 [==============================] - 0s 19ms/step\n",
            "1/1 [==============================] - 0s 20ms/step\n",
            "1/1 [==============================] - 0s 19ms/step\n",
            "1/1 [==============================] - 0s 18ms/step\n",
            "1/1 [==============================] - 0s 18ms/step\n",
            "1/1 [==============================] - 0s 19ms/step\n",
            "1/1 [==============================] - 0s 20ms/step\n",
            "1/1 [==============================] - 0s 21ms/step\n",
            "1/1 [==============================] - 0s 19ms/step\n",
            "1/1 [==============================] - 0s 18ms/step\n",
            "1/1 [==============================] - 0s 18ms/step\n",
            "1/1 [==============================] - 0s 20ms/step\n",
            "1/1 [==============================] - 0s 20ms/step\n",
            "1/1 [==============================] - 0s 19ms/step\n",
            "1/1 [==============================] - 0s 101ms/step\n"
          ]
        }
      ],
      "source": [
        "y_true = []\n",
        "y_pred = []\n",
        "\n",
        "for x, y in testdataset:\n",
        "    predictions = model.predict(x)\n",
        "\n",
        "    predicted_classes = np.argmax(predictions, axis=1)\n",
        "\n",
        "    true_classes = np.argmax(y.numpy(), axis=1)\n",
        "\n",
        "    y_true.extend(true_classes)\n",
        "    y_pred.extend(predicted_classes)\n"
      ]
    },
    {
      "cell_type": "code",
      "execution_count": null,
      "metadata": {
        "colab": {
          "base_uri": "https://localhost:8080/"
        },
        "id": "P7RWeEMmJPk-",
        "outputId": "a08e0059-4cec-4d4d-a7c7-c8ded5e1ed10"
      },
      "outputs": [
        {
          "output_type": "stream",
          "name": "stdout",
          "text": [
            "Requirement already satisfied: scikit-learn in /usr/local/lib/python3.10/dist-packages (1.2.2)\n",
            "Requirement already satisfied: numpy>=1.17.3 in /usr/local/lib/python3.10/dist-packages (from scikit-learn) (1.23.5)\n",
            "Requirement already satisfied: scipy>=1.3.2 in /usr/local/lib/python3.10/dist-packages (from scikit-learn) (1.10.1)\n",
            "Requirement already satisfied: joblib>=1.1.1 in /usr/local/lib/python3.10/dist-packages (from scikit-learn) (1.3.2)\n",
            "Requirement already satisfied: threadpoolctl>=2.0.0 in /usr/local/lib/python3.10/dist-packages (from scikit-learn) (3.2.0)\n",
            "Requirement already satisfied: seaborn in /usr/local/lib/python3.10/dist-packages (0.12.2)\n",
            "Requirement already satisfied: numpy!=1.24.0,>=1.17 in /usr/local/lib/python3.10/dist-packages (from seaborn) (1.23.5)\n",
            "Requirement already satisfied: pandas>=0.25 in /usr/local/lib/python3.10/dist-packages (from seaborn) (1.5.3)\n",
            "Requirement already satisfied: matplotlib!=3.6.1,>=3.1 in /usr/local/lib/python3.10/dist-packages (from seaborn) (3.7.1)\n",
            "Requirement already satisfied: contourpy>=1.0.1 in /usr/local/lib/python3.10/dist-packages (from matplotlib!=3.6.1,>=3.1->seaborn) (1.1.0)\n",
            "Requirement already satisfied: cycler>=0.10 in /usr/local/lib/python3.10/dist-packages (from matplotlib!=3.6.1,>=3.1->seaborn) (0.11.0)\n",
            "Requirement already satisfied: fonttools>=4.22.0 in /usr/local/lib/python3.10/dist-packages (from matplotlib!=3.6.1,>=3.1->seaborn) (4.42.1)\n",
            "Requirement already satisfied: kiwisolver>=1.0.1 in /usr/local/lib/python3.10/dist-packages (from matplotlib!=3.6.1,>=3.1->seaborn) (1.4.4)\n",
            "Requirement already satisfied: packaging>=20.0 in /usr/local/lib/python3.10/dist-packages (from matplotlib!=3.6.1,>=3.1->seaborn) (23.1)\n",
            "Requirement already satisfied: pillow>=6.2.0 in /usr/local/lib/python3.10/dist-packages (from matplotlib!=3.6.1,>=3.1->seaborn) (9.4.0)\n",
            "Requirement already satisfied: pyparsing>=2.3.1 in /usr/local/lib/python3.10/dist-packages (from matplotlib!=3.6.1,>=3.1->seaborn) (3.1.1)\n",
            "Requirement already satisfied: python-dateutil>=2.7 in /usr/local/lib/python3.10/dist-packages (from matplotlib!=3.6.1,>=3.1->seaborn) (2.8.2)\n",
            "Requirement already satisfied: pytz>=2020.1 in /usr/local/lib/python3.10/dist-packages (from pandas>=0.25->seaborn) (2023.3)\n",
            "Requirement already satisfied: six>=1.5 in /usr/local/lib/python3.10/dist-packages (from python-dateutil>=2.7->matplotlib!=3.6.1,>=3.1->seaborn) (1.16.0)\n"
          ]
        }
      ],
      "source": [
        "!pip install scikit-learn\n",
        "!pip install seaborn"
      ]
    },
    {
      "cell_type": "code",
      "execution_count": null,
      "metadata": {
        "id": "TlVbGHUuJPk-"
      },
      "outputs": [],
      "source": [
        "from sklearn.metrics import confusion_matrix\n",
        "import seaborn as sns\n",
        "import matplotlib.pyplot as plt"
      ]
    },
    {
      "cell_type": "code",
      "execution_count": null,
      "metadata": {
        "colab": {
          "base_uri": "https://localhost:8080/",
          "height": 696
        },
        "id": "Zk6TNicuJPk_",
        "outputId": "fb1d2263-ed83-4fbd-fcb9-da5a621ad361"
      },
      "outputs": [
        {
          "output_type": "display_data",
          "data": {
            "text/plain": [
              "<Figure size 1000x800 with 2 Axes>"
            ],
            "image/png": "[encoded data removed]"
          },
          "metadata": {}
        }
      ],
      "source": [
        "cm = confusion_matrix(y_true, y_pred)\n",
        "\n",
        "plt.figure(figsize=(10, 8))\n",
        "sns.heatmap(cm, annot=True, fmt='g')\n",
        "plt.xlabel('Predicciones')\n",
        "plt.ylabel('Valores verdaderos')\n",
        "plt.show()\n"
      ]
    },
    {
      "cell_type": "code",
      "execution_count": null,
      "metadata": {
        "id": "hlv1G5MVJPk_"
      },
      "outputs": [],
      "source": []
    }
  ],
  "metadata": {
    "accelerator": "GPU",
    "colab": {
      "gpuType": "A100",
      "machine_shape": "hm",
      "provenance": []
    },
    "kernelspec": {
      "display_name": "Python 3",
      "name": "python3"
    },
    "language_info": {
      "codemirror_mode": {
        "name": "ipython",
        "version": 3
      },
      "file_extension": ".py",
      "mimetype": "text/x-python",
      "name": "python",
      "nbconvert_exporter": "python",
      "pygments_lexer": "ipython3",
      "version": "3.8.10"
    }
  },
  "nbformat": 4,
  "nbformat_minor": 0
}