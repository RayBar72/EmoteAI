{
 "cells": [
  {
   "cell_type": "markdown",
   "metadata": {},
   "source": [
    "# Based on Yann LeCun, 1998\n",
    "\n",
    "- Incorpores preproceses and augmentation layers\n",
    "- Changes Output layer"
   ]
  },
  {
   "cell_type": "markdown",
   "metadata": {
    "id": "r-K1qm7qD71W"
   },
   "source": [
    "# Entorno de Ejecución\n",
    "\n",
    "\n",
    "---\n",
    "\n"
   ]
  },
  {
   "cell_type": "code",
   "execution_count": 1,
   "metadata": {
    "colab": {
     "base_uri": "https://localhost:8080/"
    },
    "executionInfo": {
     "elapsed": 499,
     "status": "ok",
     "timestamp": 1692290348847,
     "user": {
      "displayName": "Raymundo Barrera Flores",
      "userId": "08869469553354253263"
     },
     "user_tz": 180
    },
    "id": "ignAdCnzECt_",
    "outputId": "41613169-e73e-47ac-cc28-1cea7ab8197f"
   },
   "outputs": [
    {
     "name": "stdout",
     "output_type": "stream",
     "text": [
      "Tue Aug 29 15:53:26 2023       \n",
      "+---------------------------------------------------------------------------------------+\n",
      "| NVIDIA-SMI 535.86.01              Driver Version: 536.67       CUDA Version: 12.2     |\n",
      "|-----------------------------------------+----------------------+----------------------+\n",
      "| GPU  Name                 Persistence-M | Bus-Id        Disp.A | Volatile Uncorr. ECC |\n",
      "| Fan  Temp   Perf          Pwr:Usage/Cap |         Memory-Usage | GPU-Util  Compute M. |\n",
      "|                                         |                      |               MIG M. |\n",
      "|=========================================+======================+======================|\n",
      "|   0  NVIDIA GeForce GTX 1050 Ti     On  | 00000000:01:00.0  On |                  N/A |\n",
      "| N/A   35C    P8              N/A / ERR! |     90MiB /  4096MiB |      0%      Default |\n",
      "|                                         |                      |                  N/A |\n",
      "+-----------------------------------------+----------------------+----------------------+\n",
      "                                                                                         \n",
      "+---------------------------------------------------------------------------------------+\n",
      "| Processes:                                                                            |\n",
      "|  GPU   GI   CI        PID   Type   Process name                            GPU Memory |\n",
      "|        ID   ID                                                             Usage      |\n",
      "|=======================================================================================|\n",
      "|  No running processes found                                                           |\n",
      "+---------------------------------------------------------------------------------------+\n"
     ]
    }
   ],
   "source": [
    "gpu_info = !nvidia-smi\n",
    "gpu_info = '\\n'.join(gpu_info)\n",
    "if gpu_info.find('failed') >= 0:\n",
    "  print('Not connected to a GPU')\n",
    "else:\n",
    "  print(gpu_info)"
   ]
  },
  {
   "cell_type": "code",
   "execution_count": 2,
   "metadata": {
    "colab": {
     "base_uri": "https://localhost:8080/"
    },
    "executionInfo": {
     "elapsed": 1227,
     "status": "ok",
     "timestamp": 1692290358018,
     "user": {
      "displayName": "Raymundo Barrera Flores",
      "userId": "08869469553354253263"
     },
     "user_tz": 180
    },
    "id": "IX7e0ELIEJwM",
    "outputId": "fc6a5738-da67-48d3-bd9e-e303ce7f4208"
   },
   "outputs": [
    {
     "name": "stdout",
     "output_type": "stream",
     "text": [
      "Your runtime has 13.3 gigabytes of available RAM\n",
      "\n",
      "Not using a high-RAM runtime\n"
     ]
    }
   ],
   "source": [
    "from psutil import virtual_memory\n",
    "ram_gb = virtual_memory().total / 1e9\n",
    "print('Your runtime has {:.1f} gigabytes of available RAM\\n'.format(ram_gb))\n",
    "\n",
    "if ram_gb < 20:\n",
    "  print('Not using a high-RAM runtime')\n",
    "else:\n",
    "  print('You are using a high-RAM runtime!')"
   ]
  },
  {
   "cell_type": "code",
   "execution_count": 3,
   "metadata": {
    "id": "6zgbp5EzMeGo"
   },
   "outputs": [
    {
     "name": "stderr",
     "output_type": "stream",
     "text": [
      "2023-08-29 15:53:36.847587: I tensorflow/core/platform/cpu_feature_guard.cc:182] This TensorFlow binary is optimized to use available CPU instructions in performance-critical operations.\n",
      "To enable the following instructions: AVX2 FMA, in other operations, rebuild TensorFlow with the appropriate compiler flags.\n"
     ]
    }
   ],
   "source": [
    "import numpy as np\n",
    "import os\n",
    "# import pandas as pd\n",
    "import matplotlib.pyplot as plt\n",
    "import tensorflow.keras as K\n",
    "import tensorflow as tf\n",
    "from keras.models import Sequential\n",
    "from keras.layers import Conv2D, MaxPooling2D, Flatten, Dense, Dropout\n",
    "from keras.optimizers import Adam\n"
   ]
  },
  {
   "cell_type": "markdown",
   "metadata": {
    "id": "he4ly_t07DOd"
   },
   "source": [
    "# Creating dataset and model"
   ]
  },
  {
   "cell_type": "code",
   "execution_count": 4,
   "metadata": {
    "colab": {
     "base_uri": "https://localhost:8080/"
    },
    "executionInfo": {
     "elapsed": 1,
     "status": "ok",
     "timestamp": 1692290442684,
     "user": {
      "displayName": "Raymundo Barrera Flores",
      "userId": "08869469553354253263"
     },
     "user_tz": 180
    },
    "id": "OGLGEIK47kGc",
    "outputId": "8e43ff40-62c4-410f-9b92-414ed2fa26b9"
   },
   "outputs": [
    {
     "name": "stdout",
     "output_type": "stream",
     "text": [
      "Found 28709 files belonging to 7 classes.\n"
     ]
    },
    {
     "name": "stderr",
     "output_type": "stream",
     "text": [
      "2023-08-29 15:54:07.236673: I tensorflow/compiler/xla/stream_executor/cuda/cuda_gpu_executor.cc:981] could not open file to read NUMA node: /sys/bus/pci/devices/0000:01:00.0/numa_node\n",
      "Your kernel may have been built without NUMA support.\n",
      "2023-08-29 15:54:07.244165: I tensorflow/compiler/xla/stream_executor/cuda/cuda_gpu_executor.cc:981] could not open file to read NUMA node: /sys/bus/pci/devices/0000:01:00.0/numa_node\n",
      "Your kernel may have been built without NUMA support.\n",
      "2023-08-29 15:54:07.244586: I tensorflow/compiler/xla/stream_executor/cuda/cuda_gpu_executor.cc:981] could not open file to read NUMA node: /sys/bus/pci/devices/0000:01:00.0/numa_node\n",
      "Your kernel may have been built without NUMA support.\n",
      "2023-08-29 15:54:07.246678: I tensorflow/compiler/xla/stream_executor/cuda/cuda_gpu_executor.cc:981] could not open file to read NUMA node: /sys/bus/pci/devices/0000:01:00.0/numa_node\n",
      "Your kernel may have been built without NUMA support.\n",
      "2023-08-29 15:54:07.247117: I tensorflow/compiler/xla/stream_executor/cuda/cuda_gpu_executor.cc:981] could not open file to read NUMA node: /sys/bus/pci/devices/0000:01:00.0/numa_node\n",
      "Your kernel may have been built without NUMA support.\n",
      "2023-08-29 15:54:07.247495: I tensorflow/compiler/xla/stream_executor/cuda/cuda_gpu_executor.cc:981] could not open file to read NUMA node: /sys/bus/pci/devices/0000:01:00.0/numa_node\n",
      "Your kernel may have been built without NUMA support.\n",
      "2023-08-29 15:54:08.014495: I tensorflow/compiler/xla/stream_executor/cuda/cuda_gpu_executor.cc:981] could not open file to read NUMA node: /sys/bus/pci/devices/0000:01:00.0/numa_node\n",
      "Your kernel may have been built without NUMA support.\n",
      "2023-08-29 15:54:08.014914: I tensorflow/compiler/xla/stream_executor/cuda/cuda_gpu_executor.cc:981] could not open file to read NUMA node: /sys/bus/pci/devices/0000:01:00.0/numa_node\n",
      "Your kernel may have been built without NUMA support.\n",
      "2023-08-29 15:54:08.014933: I tensorflow/core/common_runtime/gpu/gpu_device.cc:1726] Could not identify NUMA node of platform GPU id 0, defaulting to 0.  Your kernel may not have been built with NUMA support.\n",
      "2023-08-29 15:54:08.015311: I tensorflow/compiler/xla/stream_executor/cuda/cuda_gpu_executor.cc:981] could not open file to read NUMA node: /sys/bus/pci/devices/0000:01:00.0/numa_node\n",
      "Your kernel may have been built without NUMA support.\n",
      "2023-08-29 15:54:08.015351: I tensorflow/core/common_runtime/gpu/gpu_device.cc:1639] Created device /job:localhost/replica:0/task:0/device:GPU:0 with 2734 MB memory:  -> device: 0, name: NVIDIA GeForce GTX 1050 Ti, pci bus id: 0000:01:00.0, compute capability: 6.1\n"
     ]
    },
    {
     "name": "stdout",
     "output_type": "stream",
     "text": [
      "Found 7178 files belonging to 7 classes.\n"
     ]
    }
   ],
   "source": [
    "img_train = '/tf/train'\n",
    "\n",
    "\n",
    "traindataset = K.utils.image_dataset_from_directory(img_train,\n",
    "                                                    label_mode='categorical',\n",
    "#                                                     color_mode='grayscale',\n",
    "                                                    batch_size=32,\n",
    "                                                    image_size=(48,48),\n",
    "                                                    seed=7,\n",
    "                                                    )\n",
    "\n",
    "img_test = '/tf/test'\n",
    "\n",
    "testdataset = K.utils.image_dataset_from_directory(img_test,\n",
    "                                                    label_mode='categorical',\n",
    "#                                                     color_mode='grayscale',\n",
    "                                                    batch_size=32,\n",
    "                                                    image_size=(48,48),\n",
    "                                                    seed=7,\n",
    "                                                    )\n"
   ]
  },
  {
   "cell_type": "code",
   "execution_count": 7,
   "metadata": {
    "id": "Xc9He9PZ_aFm"
   },
   "outputs": [
    {
     "name": "stdout",
     "output_type": "stream",
     "text": [
      "Model: \"sequential_1\"\n",
      "_________________________________________________________________\n",
      " Layer (type)                Output Shape              Param #   \n",
      "=================================================================\n",
      " resizing_1 (Resizing)       (None, 28, 28, 3)         0         \n",
      "                                                                 \n",
      " rescaling_1 (Rescaling)     (None, 28, 28, 3)         0         \n",
      "                                                                 \n",
      " random_flip_1 (RandomFlip)  (None, 28, 28, 3)         0         \n",
      "                                                                 \n",
      " random_contrast_1 (RandomC  (None, 28, 28, 3)         0         \n",
      " ontrast)                                                        \n",
      "                                                                 \n",
      " random_rotation_1 (RandomR  (None, 28, 28, 3)         0         \n",
      " otation)                                                        \n",
      "                                                                 \n",
      " conv2d_2 (Conv2D)           (None, 28, 28, 6)         456       \n",
      "                                                                 \n",
      " average_pooling2d_2 (Avera  (None, 14, 14, 6)         0         \n",
      " gePooling2D)                                                    \n",
      "                                                                 \n",
      " conv2d_3 (Conv2D)           (None, 10, 10, 6)         906       \n",
      "                                                                 \n",
      " average_pooling2d_3 (Avera  (None, 5, 5, 6)           0         \n",
      " gePooling2D)                                                    \n",
      "                                                                 \n",
      " flatten_1 (Flatten)         (None, 150)               0         \n",
      "                                                                 \n",
      " dense_3 (Dense)             (None, 120)               18120     \n",
      "                                                                 \n",
      " dense_4 (Dense)             (None, 84)                10164     \n",
      "                                                                 \n",
      " dense_5 (Dense)             (None, 7)                 595       \n",
      "                                                                 \n",
      "=================================================================\n",
      "Total params: 30241 (118.13 KB)\n",
      "Trainable params: 30241 (118.13 KB)\n",
      "Non-trainable params: 0 (0.00 Byte)\n",
      "_________________________________________________________________\n"
     ]
    }
   ],
   "source": [
    "model_path = '/tf/LeNet5.h5'\n",
    "\n",
    "model = Sequential()\n",
    "\n",
    "model.add(K.layers.experimental.preprocessing.Resizing(28, 28, input_shape=(48, 48, 3)))\n",
    "model.add(K.layers.experimental.preprocessing.Rescaling(1./255))\n",
    "model.add(K.layers.experimental.preprocessing.RandomFlip('horizontal', 0))\n",
    "model.add(K.layers.experimental.preprocessing.RandomContrast([0.9, 1.1], 1))\n",
    "model.add(K.layers.experimental.preprocessing.RandomRotation((-0.2, 0.3), seed=2))\n",
    "\n",
    "model.add(Conv2D(6, (5, 5), padding='same', activation='sigmoid'))\n",
    "model.add(K.layers.AveragePooling2D(pool_size=(2, 2), strides=2))\n",
    "\n",
    "model.add(Conv2D(6, (5, 5), activation='sigmoid'))\n",
    "model.add(K.layers.AveragePooling2D(pool_size=(2, 2), strides=2))\n",
    "\n",
    "model.add(Flatten())\n",
    "\n",
    "model.add(Dense(120, activation='sigmoid', kernel_initializer='he_normal'))\n",
    "model.add(Dense(84, activation='sigmoid', kernel_initializer='he_normal'))\n",
    "\n",
    "model.add(Dense(7, activation='softmax', kernel_initializer='he_normal'))\n",
    "\n",
    "\n",
    "model.compile(optimizer=Adam(learning_rate=0.0001),\n",
    "              loss='categorical_crossentropy',\n",
    "              metrics=['accuracy'])\n",
    "\n",
    "model.summary()"
   ]
  },
  {
   "cell_type": "code",
   "execution_count": 8,
   "metadata": {
    "colab": {
     "base_uri": "https://localhost:8080/"
    },
    "executionInfo": {
     "elapsed": 7353122,
     "status": "ok",
     "timestamp": 1692299145973,
     "user": {
      "displayName": "Raymundo Barrera Flores",
      "userId": "08869469553354253263"
     },
     "user_tz": 180
    },
    "id": "CY5icagRQlWo",
    "outputId": "88caf495-b579-46b4-fd4c-96e15b7e8735",
    "scrolled": false
   },
   "outputs": [
    {
     "name": "stdout",
     "output_type": "stream",
     "text": [
      "Epoch 1/20\n",
      "898/898 [==============================] - 35s 37ms/step - loss: 1.8239 - accuracy: 0.2513 - val_loss: 1.8146 - val_accuracy: 0.2471\n",
      "Epoch 2/20\n",
      "898/898 [==============================] - 33s 36ms/step - loss: 1.8103 - accuracy: 0.2513 - val_loss: 1.8138 - val_accuracy: 0.2471\n",
      "Epoch 3/20\n",
      "898/898 [==============================] - 33s 37ms/step - loss: 1.8084 - accuracy: 0.2513 - val_loss: 1.8102 - val_accuracy: 0.2471\n",
      "Epoch 4/20\n",
      "898/898 [==============================] - 34s 38ms/step - loss: 1.8020 - accuracy: 0.2517 - val_loss: 1.8005 - val_accuracy: 0.2474\n",
      "Epoch 5/20\n",
      "898/898 [==============================] - 33s 36ms/step - loss: 1.7921 - accuracy: 0.2544 - val_loss: 1.7926 - val_accuracy: 0.2506\n",
      "Epoch 6/20\n",
      "898/898 [==============================] - 33s 36ms/step - loss: 1.7873 - accuracy: 0.2564 - val_loss: 1.7887 - val_accuracy: 0.2498\n",
      "Epoch 7/20\n",
      "898/898 [==============================] - 33s 37ms/step - loss: 1.7853 - accuracy: 0.2556 - val_loss: 1.7873 - val_accuracy: 0.2494\n",
      "Epoch 8/20\n",
      "898/898 [==============================] - 35s 38ms/step - loss: 1.7842 - accuracy: 0.2552 - val_loss: 1.7862 - val_accuracy: 0.2503\n",
      "Epoch 9/20\n",
      "898/898 [==============================] - 34s 37ms/step - loss: 1.7839 - accuracy: 0.2554 - val_loss: 1.7850 - val_accuracy: 0.2505\n",
      "Epoch 10/20\n",
      "898/898 [==============================] - 33s 37ms/step - loss: 1.7829 - accuracy: 0.2562 - val_loss: 1.7847 - val_accuracy: 0.2501\n",
      "Epoch 11/20\n",
      "898/898 [==============================] - 33s 37ms/step - loss: 1.7823 - accuracy: 0.2555 - val_loss: 1.7847 - val_accuracy: 0.2509\n",
      "Epoch 12/20\n",
      "898/898 [==============================] - 33s 36ms/step - loss: 1.7826 - accuracy: 0.2558 - val_loss: 1.7839 - val_accuracy: 0.2502\n",
      "Epoch 13/20\n",
      "898/898 [==============================] - 33s 37ms/step - loss: 1.7824 - accuracy: 0.2550 - val_loss: 1.7827 - val_accuracy: 0.2503\n",
      "Epoch 14/20\n",
      "898/898 [==============================] - 33s 37ms/step - loss: 1.7819 - accuracy: 0.2557 - val_loss: 1.7826 - val_accuracy: 0.2509\n",
      "Epoch 15/20\n",
      "898/898 [==============================] - 35s 38ms/step - loss: 1.7817 - accuracy: 0.2564 - val_loss: 1.7822 - val_accuracy: 0.2490\n",
      "Epoch 16/20\n",
      "898/898 [==============================] - 33s 37ms/step - loss: 1.7818 - accuracy: 0.2540 - val_loss: 1.7811 - val_accuracy: 0.2509\n",
      "Epoch 17/20\n",
      "898/898 [==============================] - 34s 38ms/step - loss: 1.7811 - accuracy: 0.2535 - val_loss: 1.7811 - val_accuracy: 0.2506\n",
      "Epoch 18/20\n",
      "898/898 [==============================] - 33s 37ms/step - loss: 1.7807 - accuracy: 0.2548 - val_loss: 1.7810 - val_accuracy: 0.2488\n",
      "Epoch 19/20\n",
      "898/898 [==============================] - 33s 37ms/step - loss: 1.7803 - accuracy: 0.2541 - val_loss: 1.7801 - val_accuracy: 0.2498\n",
      "Epoch 20/20\n",
      "898/898 [==============================] - 34s 38ms/step - loss: 1.7805 - accuracy: 0.2549 - val_loss: 1.7796 - val_accuracy: 0.2501\n"
     ]
    }
   ],
   "source": [
    "def scheduler(epoch, lr):\n",
    "    if epoch < 1:\n",
    "        return lr\n",
    "    else:\n",
    "        return lr * tf.math.exp(-0.1)\n",
    "\n",
    "best = [K.callbacks.ModelCheckpoint(model_path,\n",
    "                                   save_best_only=True)\n",
    "#        K.callbacks.LearningRateScheduler(scheduler)\n",
    "#        K.callbacks.EarlyStopping(monitor='val_loss',\n",
    "#                                 patience=5,\n",
    "#                                 verbose=1)\n",
    "       ]\n",
    "\n",
    "history = model.fit(traindataset,\n",
    "                    validation_data=testdataset,\n",
    "                    epochs=20,\n",
    "                    verbose=True,\n",
    "                    callbacks=best)"
   ]
  },
  {
   "cell_type": "code",
   "execution_count": 9,
   "metadata": {
    "colab": {
     "base_uri": "https://localhost:8080/"
    },
    "executionInfo": {
     "elapsed": 847,
     "status": "ok",
     "timestamp": 1692299357491,
     "user": {
      "displayName": "Raymundo Barrera Flores",
      "userId": "08869469553354253263"
     },
     "user_tz": 180
    },
    "id": "Mv6LYyKx5CtG",
    "outputId": "5187c1c9-3b52-4aaa-e838-c5d892741164"
   },
   "outputs": [
    {
     "name": "stdout",
     "output_type": "stream",
     "text": [
      "<class 'dict'>\n",
      "dict_keys(['loss', 'accuracy', 'val_loss', 'val_accuracy'])\n"
     ]
    },
    {
     "data": {
      "text/plain": [
       "20"
      ]
     },
     "execution_count": 9,
     "metadata": {},
     "output_type": "execute_result"
    }
   ],
   "source": [
    "print(type(history.history))\n",
    "print(history.history.keys())\n",
    "largo = len(history.history['accuracy'])\n",
    "largo"
   ]
  },
  {
   "cell_type": "code",
   "execution_count": 10,
   "metadata": {
    "colab": {
     "base_uri": "https://localhost:8080/",
     "height": 472
    },
    "executionInfo": {
     "elapsed": 1237,
     "status": "ok",
     "timestamp": 1692299818580,
     "user": {
      "displayName": "Raymundo Barrera Flores",
      "userId": "08869469553354253263"
     },
     "user_tz": 180
    },
    "id": "KiAjZqXp56-Z",
    "outputId": "5ad062bb-faaa-46bc-f9ac-173258829fad"
   },
   "outputs": [
    {
     "data": {
      "image/png": "[encoded data removed]",
      "text/plain": [
       "<Figure size 640x480 with 1 Axes>"
      ]
     },
     "metadata": {},
     "output_type": "display_data"
    }
   ],
   "source": [
    "# Review Accuracy\n",
    "\n",
    "plt.plot(range(1, largo + 1), history.history['accuracy'], '-b', label='Accuracy')\n",
    "plt.plot(range(1, largo + 1), history.history['val_accuracy'], '-r', label='Val_Accuracy')\n",
    "plt.title('Acuracy for The Model')\n",
    "plt.xlabel('Epochs')\n",
    "plt.ylabel('Accuracy')\n",
    "plt.legend()\n",
    "plt.show()"
   ]
  },
  {
   "cell_type": "code",
   "execution_count": 11,
   "metadata": {},
   "outputs": [
    {
     "name": "stdout",
     "output_type": "stream",
     "text": [
      "225/225 [==============================] - 4s 19ms/step - loss: 1.7796 - accuracy: 0.2501\n"
     ]
    }
   ],
   "source": [
    "eval = model.evaluate(testdataset, verbose=True, use_multiprocessing=True, return_dict=True)"
   ]
  },
  {
   "cell_type": "code",
   "execution_count": 12,
   "metadata": {},
   "outputs": [
    {
     "name": "stdout",
     "output_type": "stream",
     "text": [
      "{'loss': 1.7796258926391602, 'accuracy': 0.25006964802742004}\n"
     ]
    }
   ],
   "source": [
    "print(eval)"
   ]
  },
  {
   "cell_type": "code",
   "execution_count": 13,
   "metadata": {},
   "outputs": [
    {
     "name": "stdout",
     "output_type": "stream",
     "text": [
      "225/225 [==============================] - 4s 17ms/step\n"
     ]
    }
   ],
   "source": [
    "prediction = model.predict(testdataset)"
   ]
  },
  {
   "cell_type": "code",
   "execution_count": 14,
   "metadata": {},
   "outputs": [
    {
     "name": "stdout",
     "output_type": "stream",
     "text": [
      "[[0.13282429 0.01443767 0.11405068 ... 0.20080867 0.17025542 0.07602925]\n",
      " [0.12897402 0.01442437 0.13000505 ... 0.2149935  0.19075087 0.06239002]\n",
      " [0.12226    0.0216912  0.17527685 ... 0.1164747  0.09933276 0.20958422]\n",
      " ...\n",
      " [0.15404205 0.01243666 0.10578977 ... 0.21432513 0.22776657 0.03921979]\n",
      " [0.12605774 0.01603943 0.12213791 ... 0.19294003 0.1526134  0.09592483]\n",
      " [0.12949292 0.01635669 0.13152942 ... 0.1844812  0.15426655 0.09798578]]\n",
      "(7178, 7)\n"
     ]
    }
   ],
   "source": [
    "print(prediction)\n",
    "print(prediction.shape)"
   ]
  },
  {
   "cell_type": "code",
   "execution_count": 15,
   "metadata": {},
   "outputs": [
    {
     "name": "stdout",
     "output_type": "stream",
     "text": [
      "{'angry': 0, 'disgust': 1, 'fear': 2, 'happy': 3, 'neutral': 4, 'sad': 5, 'surprise': 6}\n"
     ]
    }
   ],
   "source": [
    "names = {k: v for v, k in enumerate(testdataset.class_names)}\n",
    "print(names)"
   ]
  },
  {
   "cell_type": "code",
   "execution_count": 16,
   "metadata": {},
   "outputs": [
    {
     "name": "stdout",
     "output_type": "stream",
     "text": [
      "1/1 [==============================] - 0s 89ms/step\n",
      "1/1 [==============================] - 0s 25ms/step\n",
      "1/1 [==============================] - 0s 24ms/step\n",
      "1/1 [==============================] - 0s 26ms/step\n",
      "1/1 [==============================] - 0s 26ms/step\n",
      "1/1 [==============================] - 0s 27ms/step\n",
      "1/1 [==============================] - 0s 27ms/step\n",
      "1/1 [==============================] - 0s 27ms/step\n",
      "1/1 [==============================] - 0s 27ms/step\n",
      "1/1 [==============================] - 0s 29ms/step\n",
      "1/1 [==============================] - 0s 28ms/step\n",
      "1/1 [==============================] - 0s 25ms/step\n",
      "1/1 [==============================] - 0s 25ms/step\n",
      "1/1 [==============================] - 0s 24ms/step\n",
      "1/1 [==============================] - 0s 24ms/step\n",
      "1/1 [==============================] - 0s 26ms/step\n",
      "1/1 [==============================] - 0s 25ms/step\n",
      "1/1 [==============================] - 0s 30ms/step\n",
      "1/1 [==============================] - 0s 30ms/step\n",
      "1/1 [==============================] - 0s 29ms/step\n",
      "1/1 [==============================] - 0s 26ms/step\n",
      "1/1 [==============================] - 0s 26ms/step\n",
      "1/1 [==============================] - 0s 25ms/step\n",
      "1/1 [==============================] - 0s 24ms/step\n",
      "1/1 [==============================] - 0s 30ms/step\n",
      "1/1 [==============================] - 0s 29ms/step\n",
      "1/1 [==============================] - 0s 25ms/step\n",
      "1/1 [==============================] - 0s 25ms/step\n",
      "1/1 [==============================] - 0s 26ms/step\n",
      "1/1 [==============================] - 0s 25ms/step\n",
      "1/1 [==============================] - 0s 24ms/step\n",
      "1/1 [==============================] - 0s 25ms/step\n",
      "1/1 [==============================] - 0s 24ms/step\n",
      "1/1 [==============================] - 0s 29ms/step\n",
      "1/1 [==============================] - 0s 29ms/step\n",
      "1/1 [==============================] - 0s 22ms/step\n",
      "1/1 [==============================] - 0s 24ms/step\n",
      "1/1 [==============================] - 0s 26ms/step\n",
      "1/1 [==============================] - 0s 22ms/step\n",
      "1/1 [==============================] - 0s 22ms/step\n",
      "1/1 [==============================] - 0s 25ms/step\n",
      "1/1 [==============================] - 0s 23ms/step\n",
      "1/1 [==============================] - 0s 26ms/step\n",
      "1/1 [==============================] - 0s 25ms/step\n",
      "1/1 [==============================] - 0s 27ms/step\n",
      "1/1 [==============================] - 0s 24ms/step\n",
      "1/1 [==============================] - 0s 25ms/step\n",
      "1/1 [==============================] - 0s 24ms/step\n",
      "1/1 [==============================] - 0s 24ms/step\n",
      "1/1 [==============================] - 0s 27ms/step\n",
      "1/1 [==============================] - 0s 26ms/step\n",
      "1/1 [==============================] - 0s 26ms/step\n",
      "1/1 [==============================] - 0s 25ms/step\n",
      "1/1 [==============================] - 0s 25ms/step\n",
      "1/1 [==============================] - 0s 27ms/step\n",
      "1/1 [==============================] - 0s 26ms/step\n",
      "1/1 [==============================] - 0s 26ms/step\n",
      "1/1 [==============================] - 0s 26ms/step\n",
      "1/1 [==============================] - 0s 24ms/step\n",
      "1/1 [==============================] - 0s 24ms/step\n",
      "1/1 [==============================] - 0s 26ms/step\n",
      "1/1 [==============================] - 0s 28ms/step\n",
      "1/1 [==============================] - 0s 27ms/step\n",
      "1/1 [==============================] - 0s 26ms/step\n",
      "1/1 [==============================] - 0s 26ms/step\n",
      "1/1 [==============================] - 0s 26ms/step\n",
      "1/1 [==============================] - 0s 24ms/step\n",
      "1/1 [==============================] - 0s 26ms/step\n",
      "1/1 [==============================] - 0s 25ms/step\n",
      "1/1 [==============================] - 0s 25ms/step\n",
      "1/1 [==============================] - 0s 26ms/step\n",
      "1/1 [==============================] - 0s 26ms/step\n",
      "1/1 [==============================] - 0s 27ms/step\n",
      "1/1 [==============================] - 0s 27ms/step\n",
      "1/1 [==============================] - 0s 28ms/step\n",
      "1/1 [==============================] - 0s 25ms/step\n",
      "1/1 [==============================] - 0s 25ms/step\n",
      "1/1 [==============================] - 0s 25ms/step\n",
      "1/1 [==============================] - 0s 27ms/step\n",
      "1/1 [==============================] - 0s 26ms/step\n",
      "1/1 [==============================] - 0s 27ms/step\n",
      "1/1 [==============================] - 0s 30ms/step\n",
      "1/1 [==============================] - 0s 26ms/step\n",
      "1/1 [==============================] - 0s 25ms/step\n",
      "1/1 [==============================] - 0s 27ms/step\n",
      "1/1 [==============================] - 0s 24ms/step\n",
      "1/1 [==============================] - 0s 25ms/step\n",
      "1/1 [==============================] - 0s 27ms/step\n",
      "1/1 [==============================] - 0s 30ms/step\n",
      "1/1 [==============================] - 0s 25ms/step\n",
      "1/1 [==============================] - 0s 26ms/step\n",
      "1/1 [==============================] - 0s 25ms/step\n",
      "1/1 [==============================] - 0s 26ms/step\n",
      "1/1 [==============================] - 0s 30ms/step\n",
      "1/1 [==============================] - 0s 29ms/step\n",
      "1/1 [==============================] - 0s 29ms/step\n",
      "1/1 [==============================] - 0s 27ms/step\n",
      "1/1 [==============================] - 0s 26ms/step\n",
      "1/1 [==============================] - 0s 26ms/step\n",
      "1/1 [==============================] - 0s 27ms/step\n",
      "1/1 [==============================] - 0s 27ms/step\n",
      "1/1 [==============================] - 0s 25ms/step\n",
      "1/1 [==============================] - 0s 27ms/step\n",
      "1/1 [==============================] - 0s 26ms/step\n",
      "1/1 [==============================] - 0s 26ms/step\n",
      "1/1 [==============================] - 0s 26ms/step\n",
      "1/1 [==============================] - 0s 25ms/step\n",
      "1/1 [==============================] - 0s 26ms/step\n",
      "1/1 [==============================] - 0s 26ms/step\n",
      "1/1 [==============================] - 0s 27ms/step\n",
      "1/1 [==============================] - 0s 27ms/step\n",
      "1/1 [==============================] - 0s 27ms/step\n",
      "1/1 [==============================] - 0s 27ms/step\n",
      "1/1 [==============================] - 0s 26ms/step\n",
      "1/1 [==============================] - 0s 25ms/step\n",
      "1/1 [==============================] - 0s 26ms/step\n",
      "1/1 [==============================] - 0s 25ms/step\n",
      "1/1 [==============================] - 0s 30ms/step\n",
      "1/1 [==============================] - 0s 32ms/step\n",
      "1/1 [==============================] - 0s 30ms/step\n",
      "1/1 [==============================] - 0s 27ms/step\n",
      "1/1 [==============================] - 0s 25ms/step\n",
      "1/1 [==============================] - 0s 26ms/step\n",
      "1/1 [==============================] - 0s 26ms/step\n",
      "1/1 [==============================] - 0s 31ms/step\n",
      "1/1 [==============================] - 0s 31ms/step\n",
      "1/1 [==============================] - 0s 30ms/step\n",
      "1/1 [==============================] - 0s 29ms/step\n",
      "1/1 [==============================] - 0s 27ms/step\n",
      "1/1 [==============================] - 0s 26ms/step\n",
      "1/1 [==============================] - 0s 27ms/step\n",
      "1/1 [==============================] - 0s 26ms/step\n",
      "1/1 [==============================] - 0s 25ms/step\n",
      "1/1 [==============================] - 0s 26ms/step\n",
      "1/1 [==============================] - 0s 25ms/step\n",
      "1/1 [==============================] - 0s 25ms/step\n",
      "1/1 [==============================] - 0s 27ms/step\n",
      "1/1 [==============================] - 0s 24ms/step\n",
      "1/1 [==============================] - 0s 29ms/step\n",
      "1/1 [==============================] - 0s 26ms/step\n",
      "1/1 [==============================] - 0s 28ms/step\n",
      "1/1 [==============================] - 0s 26ms/step\n",
      "1/1 [==============================] - 0s 26ms/step\n",
      "1/1 [==============================] - 0s 26ms/step\n",
      "1/1 [==============================] - 0s 26ms/step\n",
      "1/1 [==============================] - 0s 27ms/step\n",
      "1/1 [==============================] - 0s 27ms/step\n",
      "1/1 [==============================] - 0s 28ms/step\n",
      "1/1 [==============================] - 0s 25ms/step\n",
      "1/1 [==============================] - 0s 26ms/step\n",
      "1/1 [==============================] - 0s 29ms/step\n",
      "1/1 [==============================] - 0s 26ms/step\n",
      "1/1 [==============================] - 0s 25ms/step\n",
      "1/1 [==============================] - 0s 25ms/step\n",
      "1/1 [==============================] - 0s 25ms/step\n",
      "1/1 [==============================] - 0s 26ms/step\n",
      "1/1 [==============================] - 0s 25ms/step\n"
     ]
    },
    {
     "name": "stdout",
     "output_type": "stream",
     "text": [
      "1/1 [==============================] - 0s 28ms/step\n",
      "1/1 [==============================] - 0s 28ms/step\n",
      "1/1 [==============================] - 0s 29ms/step\n",
      "1/1 [==============================] - 0s 28ms/step\n",
      "1/1 [==============================] - 0s 27ms/step\n",
      "1/1 [==============================] - 0s 26ms/step\n",
      "1/1 [==============================] - 0s 29ms/step\n",
      "1/1 [==============================] - 0s 28ms/step\n",
      "1/1 [==============================] - 0s 35ms/step\n",
      "1/1 [==============================] - 0s 29ms/step\n",
      "1/1 [==============================] - 0s 27ms/step\n",
      "1/1 [==============================] - 0s 30ms/step\n",
      "1/1 [==============================] - 0s 26ms/step\n",
      "1/1 [==============================] - 0s 26ms/step\n",
      "1/1 [==============================] - 0s 26ms/step\n",
      "1/1 [==============================] - 0s 25ms/step\n",
      "1/1 [==============================] - 0s 28ms/step\n",
      "1/1 [==============================] - 0s 28ms/step\n",
      "1/1 [==============================] - 0s 28ms/step\n",
      "1/1 [==============================] - 0s 28ms/step\n",
      "1/1 [==============================] - 0s 29ms/step\n",
      "1/1 [==============================] - 0s 25ms/step\n",
      "1/1 [==============================] - 0s 25ms/step\n",
      "1/1 [==============================] - 0s 29ms/step\n",
      "1/1 [==============================] - 0s 26ms/step\n",
      "1/1 [==============================] - 0s 27ms/step\n",
      "1/1 [==============================] - 0s 30ms/step\n",
      "1/1 [==============================] - 0s 30ms/step\n",
      "1/1 [==============================] - 0s 29ms/step\n",
      "1/1 [==============================] - 0s 27ms/step\n",
      "1/1 [==============================] - 0s 27ms/step\n",
      "1/1 [==============================] - 0s 27ms/step\n",
      "1/1 [==============================] - 0s 30ms/step\n",
      "1/1 [==============================] - 0s 29ms/step\n",
      "1/1 [==============================] - 0s 26ms/step\n",
      "1/1 [==============================] - 0s 26ms/step\n",
      "1/1 [==============================] - 0s 27ms/step\n",
      "1/1 [==============================] - 0s 25ms/step\n",
      "1/1 [==============================] - 0s 26ms/step\n",
      "1/1 [==============================] - 0s 28ms/step\n",
      "1/1 [==============================] - 0s 26ms/step\n",
      "1/1 [==============================] - 0s 26ms/step\n",
      "1/1 [==============================] - 0s 30ms/step\n",
      "1/1 [==============================] - 0s 31ms/step\n",
      "1/1 [==============================] - 0s 29ms/step\n",
      "1/1 [==============================] - 0s 24ms/step\n",
      "1/1 [==============================] - 0s 28ms/step\n",
      "1/1 [==============================] - 0s 26ms/step\n",
      "1/1 [==============================] - 0s 25ms/step\n",
      "1/1 [==============================] - 0s 26ms/step\n",
      "1/1 [==============================] - 0s 26ms/step\n",
      "1/1 [==============================] - 0s 26ms/step\n",
      "1/1 [==============================] - 0s 26ms/step\n",
      "1/1 [==============================] - 0s 27ms/step\n",
      "1/1 [==============================] - 0s 25ms/step\n",
      "1/1 [==============================] - 0s 25ms/step\n",
      "1/1 [==============================] - 0s 25ms/step\n",
      "1/1 [==============================] - 0s 25ms/step\n",
      "1/1 [==============================] - 0s 26ms/step\n",
      "1/1 [==============================] - 0s 26ms/step\n",
      "1/1 [==============================] - 0s 25ms/step\n",
      "1/1 [==============================] - 0s 25ms/step\n",
      "1/1 [==============================] - 0s 26ms/step\n",
      "1/1 [==============================] - 0s 26ms/step\n",
      "1/1 [==============================] - 0s 26ms/step\n",
      "1/1 [==============================] - 0s 26ms/step\n",
      "1/1 [==============================] - 0s 25ms/step\n",
      "1/1 [==============================] - 0s 83ms/step\n"
     ]
    }
   ],
   "source": [
    "y_true = []\n",
    "y_pred = []\n",
    "\n",
    "for x, y in testdataset:\n",
    "    predictions = model.predict(x)\n",
    "    \n",
    "    predicted_classes = np.argmax(predictions, axis=1)\n",
    "    \n",
    "    true_classes = np.argmax(y.numpy(), axis=1)\n",
    "    \n",
    "    y_true.extend(true_classes)\n",
    "    y_pred.extend(predicted_classes)\n"
   ]
  },
  {
   "cell_type": "code",
   "execution_count": null,
   "metadata": {},
   "outputs": [],
   "source": [
    "!pip install scikit-learn\n",
    "!pip install seaborn"
   ]
  },
  {
   "cell_type": "code",
   "execution_count": 17,
   "metadata": {},
   "outputs": [],
   "source": [
    "from sklearn.metrics import confusion_matrix\n",
    "import seaborn as sns\n",
    "import matplotlib.pyplot as plt"
   ]
  },
  {
   "cell_type": "code",
   "execution_count": 18,
   "metadata": {},
   "outputs": [
    {
     "data": {
      "image/png": "[encoded data removed]",
      "text/plain": [
       "<Figure size 1000x800 with 2 Axes>"
      ]
     },
     "metadata": {},
     "output_type": "display_data"
    }
   ],
   "source": [
    "cm = confusion_matrix(y_true, y_pred)\n",
    "\n",
    "plt.figure(figsize=(10, 8))\n",
    "sns.heatmap(cm, annot=True, fmt='g')\n",
    "plt.xlabel('Predicciones')\n",
    "plt.ylabel('Valores verdaderos')\n",
    "plt.show()\n"
   ]
  },
  {
   "cell_type": "code",
   "execution_count": null,
   "metadata": {},
   "outputs": [],
   "source": []
  }
 ],
 "metadata": {
  "accelerator": "GPU",
  "colab": {
   "authorship_tag": "ABX9TyOQn6iAVHL6yEimI1mgRrcK",
   "collapsed_sections": [
    "fNNisVBUMiLH"
   ],
   "gpuType": "T4",
   "machine_shape": "hm",
   "mount_file_id": "1ybK03J1gH7bNMcKdw5F5c7bdTbpM_Wy8",
   "provenance": [
    {
     "file_id": "1ybK03J1gH7bNMcKdw5F5c7bdTbpM_Wy8",
     "timestamp": 1692299861316
    }
   ]
  },
  "kernelspec": {
   "display_name": "Python 3 (ipykernel)",
   "language": "python",
   "name": "python3"
  },
  "language_info": {
   "codemirror_mode": {
    "name": "ipython",
    "version": 3
   },
   "file_extension": ".py",
   "mimetype": "text/x-python",
   "name": "python",
   "nbconvert_exporter": "python",
   "pygments_lexer": "ipython3",
   "version": "3.8.10"
  }
 },
 "nbformat": 4,
 "nbformat_minor": 4
}
